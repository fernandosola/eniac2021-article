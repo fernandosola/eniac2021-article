{
 "cells": [
  {
   "cell_type": "markdown",
   "metadata": {},
   "source": [
    "# Experimentos para os dados textuais"
   ]
  },
  {
   "cell_type": "code",
   "execution_count": 1,
   "metadata": {},
   "outputs": [],
   "source": [
    "import datetime\n",
    "import re\n",
    "import json\n",
    "import yaml\n",
    "import sys\n",
    "import os\n",
    "import logging\n",
    "import logging.config\n",
    "import time\n",
    "import multiprocessing\n",
    "from collections import OrderedDict\n",
    "import requests\n",
    "import sqlalchemy\n",
    "import string\n",
    "import unicodedata\n",
    "import yaml\n",
    "import warnings\n",
    "warnings.filterwarnings('ignore')\n",
    "\n",
    "########################################\n",
    "# external libs\n",
    "########################################\n",
    "import joblib\n",
    "from joblib import delayed, Parallel\n",
    "\n",
    "########################################\n",
    "# ml\n",
    "########################################\n",
    "from lightgbm import LGBMClassifier\n",
    "import pandas as pd\n",
    "import seaborn as sns\n",
    "import matplotlib\n",
    "import matplotlib.pyplot as plt\n",
    "import numpy as np\n",
    "from scipy.sparse import issparse\n",
    "\n",
    "from sklearn.base import BaseEstimator, TransformerMixin\n",
    "from sklearn.model_selection import train_test_split\n",
    "from sklearn.metrics import (\n",
    "    make_scorer,\n",
    "    accuracy_score,\n",
    "    balanced_accuracy_score,\n",
    "    average_precision_score,\n",
    "    brier_score_loss,\n",
    "    f1_score,\n",
    "    log_loss,\n",
    "    precision_score,\n",
    "    recall_score,\n",
    "    jaccard_score,\n",
    "    roc_auc_score,\n",
    "    classification_report,\n",
    "    confusion_matrix,\n",
    "    roc_curve,\n",
    "    auc,\n",
    "    precision_recall_curve,\n",
    ")\n",
    "from sklearn.utils import resample\n",
    "from sklearn.tree import DecisionTreeClassifier\n",
    "from sklearn.neighbors import KNeighborsClassifier\n",
    "from sklearn.ensemble import RandomForestClassifier, AdaBoostClassifier, BaggingClassifier, GradientBoostingClassifier, ExtraTreesClassifier\n",
    "from sklearn.linear_model import LogisticRegression, SGDClassifier\n",
    "from sklearn.naive_bayes import GaussianNB, BernoulliNB, MultinomialNB\n",
    "from sklearn.discriminant_analysis import LinearDiscriminantAnalysis, QuadraticDiscriminantAnalysis\n",
    "from sklearn.svm import SVC, LinearSVC, NuSVC\n",
    "from sklearn.neural_network import MLPClassifier\n",
    "\n",
    "from sklearn.feature_selection import SelectPercentile, VarianceThreshold, SelectFromModel\n",
    "from sklearn.model_selection import GridSearchCV, cross_val_score, cross_validate, RepeatedStratifiedKFold\n",
    "from sklearn.calibration import CalibratedClassifierCV\n",
    "\n",
    "from sklearn.feature_extraction.text import TfidfVectorizer, CountVectorizer\n",
    "from sklearn.impute import SimpleImputer\n",
    "from sklearn.preprocessing import RobustScaler, StandardScaler, MinMaxScaler, Binarizer\n",
    "from sklearn.decomposition import LatentDirichletAllocation, TruncatedSVD, PCA\n",
    "\n",
    "from sklearn.compose import ColumnTransformer\n",
    "from sklearn.pipeline import Pipeline, FeatureUnion\n",
    "\n",
    "from lightgbm import LGBMClassifier\n",
    "\n",
    "import xgboost as xgb\n",
    "from xgboost import XGBClassifier\n",
    "\n",
    "#################################\n",
    "# VARIÁVEIS GLOBAIS\n",
    "#################################\n",
    "N_JOBS = -1\n",
    "BASE_DIR = './'\n",
    "DEFAULT_RANDOM_STATE = 42\n",
    "\n",
    "#################################\n",
    "# LOGS\n",
    "#################################\n",
    "with open(os.path.join(BASE_DIR, 'log.conf.yaml'), 'r') as f:\n",
    "    config = yaml.safe_load(f.read())\n",
    "    logging.config.dictConfig(config)"
   ]
  },
  {
   "cell_type": "code",
   "execution_count": 2,
   "metadata": {},
   "outputs": [],
   "source": [
    "class TextCleaner(BaseEstimator, TransformerMixin):\n",
    "    stop_words = ['de', 'a', 'o', 'que', 'e', 'do', 'da', 'em', 'um', 'para', 'é', 'com', 'não', 'uma', 'os', 'no',\n",
    "                  'se', 'na', 'por', 'mais', 'as', 'dos', 'como', 'mas', 'foi', 'ao', 'ele', 'das', 'tem', 'à', 'seu',\n",
    "                  'sua', 'ou', 'ser', 'quando', 'muito', 'há', 'nos', 'já', 'está', 'eu', 'também', 'só', 'pelo',\n",
    "                  'pela', 'até', 'isso', 'ela', 'entre', 'era', 'depois', 'sem', 'mesmo', 'aos', 'ter', 'seus', 'quem',\n",
    "                  'nas', 'me', 'esse', 'eles', 'estão', 'você', 'tinha', 'foram', 'essa', 'num', 'nem', 'suas', 'meu',\n",
    "                  'às', 'minha', 'têm', 'numa', 'pelos', 'elas', 'havia', 'seja', 'qual', 'será', 'nós', 'tenho', 'lhe',\n",
    "                  'deles', 'essas', 'esses', 'pelas', 'este', 'fosse', 'dele', 'tu', 'te', 'vocês', 'vos', 'lhes',\n",
    "                  'meus', 'minhas', 'teu', 'tua', 'teus', 'tuas', 'nosso', 'nossa', 'nossos', 'nossas', 'dela', 'delas',\n",
    "                  'esta', 'estes', 'estas', 'aquele', 'aquela', 'aqueles', 'aquelas', 'isto', 'aquilo', 'estou', 'está',\n",
    "                  'estamos', 'estão', 'estive', 'esteve', 'estivemos', 'estiveram', 'estava', 'estávamos', 'estavam',\n",
    "                  'estivera', 'estivéramos', 'esteja', 'estejamos', 'estejam', 'estivesse', 'estivéssemos',\n",
    "                  'estivessem', 'estiver', 'estivermos', 'estiverem', 'hei', 'há', 'havemos', 'hão', 'houve',\n",
    "                  'houvemos', 'houveram', 'houvera', 'houvéramos', 'haja', 'hajamos', 'hajam', 'houvesse',\n",
    "                  'houvéssemos', 'houvessem', 'houver', 'houvermos', 'houverem', 'houverei', 'houverá', 'houveremos',\n",
    "                  'houverão', 'houveria', 'houveríamos', 'houveriam', 'sou', 'somos', 'são', 'era', 'éramos', 'eram',\n",
    "                  'fui', 'foi', 'fomos', 'foram', 'fora', 'fôramos', 'seja', 'sejamos', 'sejam', 'fosse', 'fôssemos',\n",
    "                  'fossem', 'for', 'formos', 'forem', 'serei', 'será', 'seremos', 'serão', 'seria', 'seríamos',\n",
    "                  'seriam', 'tenho', 'tem', 'temos', 'tém', 'tinha', 'tínhamos', 'tinham', 'tive', 'teve', 'tivemos',\n",
    "                  'tiveram', 'tivera', 'tivéramos', 'tenha', 'tenhamos', 'tenham', 'tivesse', 'tivéssemos', 'tivessem',\n",
    "                  'tiver', 'tivermos', 'tiverem', 'terei', 'terá', 'teremos', 'terão', 'teria', 'teríamos', 'teriam']\n",
    "\n",
    "    def __init__(self, n_jobs=1):\n",
    "        self.n_jobs = n_jobs\n",
    "\n",
    "    def fit(self, X, y=None):\n",
    "        return self\n",
    "\n",
    "    def transform(self, X, y=None):\n",
    "        sX = pd.Series(X)\n",
    "\n",
    "        def tratar_texto(t):\n",
    "\n",
    "            if not t:\n",
    "                return ''\n",
    "            if type(t) != str:\n",
    "                t = str(t)\n",
    "\n",
    "            t = t.replace('\\\\n', ' ')\n",
    "            t = t.replace('null', ' ')\n",
    "            t = t.lower()\n",
    "            regex = re.compile('[' + re.escape(string.punctuation) + '\\\\r\\\\t\\\\n]')\n",
    "            t = regex.sub(\" \", t)\n",
    "            lista = t.split()\n",
    "\n",
    "            # retira stopwords e sinais de pontuação\n",
    "            lista = [palavra for palavra in lista if palavra not in self.stop_words and palavra not in string.punctuation]\n",
    "\n",
    "            # retira os dígitos\n",
    "            lista = ' '.join([str(elemento) for elemento in lista if not elemento.isdigit()])\n",
    "            lista = lista.replace('\\n', ' ').replace('\\r', ' ')\n",
    "            lista = lista.replace(' o ', ' ').replace(' a ', ' ').replace(' os ', ' ').replace(' as ', ' ')  # retira o, a, os, as que ainda permaneceiam no texto\n",
    "            lista = re.sub(r\" +\", ' ', lista)  # retira espaços em excesso\n",
    "\n",
    "            nfkd = unicodedata.normalize('NFKD', lista)\n",
    "            lista = u\"\".join([c for c in nfkd if not unicodedata.combining(c)])  # retira acento\n",
    "\n",
    "            return lista\n",
    "\n",
    "        def tratar_serie(s):\n",
    "            return s.apply(tratar_texto)\n",
    "\n",
    "        split = np.array_split(sX, self.n_jobs)\n",
    "        r = Parallel(n_jobs=self.n_jobs, verbose=0)(delayed(tratar_serie)(s) for s in split)\n",
    "        return pd.concat(r)\n",
    "    \n",
    "class FeatureSelector(BaseEstimator, TransformerMixin):\n",
    "    def __init__(self, feature_names, default_value=0):\n",
    "        self.feature_names = feature_names\n",
    "        self.default_value = default_value\n",
    "\n",
    "    def fit(self, X, y=None):\n",
    "        return self\n",
    "\n",
    "    def transform(self, X, y=None):\n",
    "        # incluir teste para colunas ausentes\n",
    "        X = X.copy()\n",
    "        for c in self.feature_names:\n",
    "            if c not in X.columns:\n",
    "                X[c] = self.default_value\n",
    "        return X[self.feature_names]"
   ]
  },
  {
   "cell_type": "markdown",
   "metadata": {},
   "source": [
    "# Dataset Texto"
   ]
  },
  {
   "cell_type": "code",
   "execution_count": 3,
   "metadata": {},
   "outputs": [],
   "source": [
    "# # manter no dataset apenas manifestacoes até maio\n",
    "# sdp = sqlalchemy.create_engine('mssql+pyodbc://xxxxxxxxxxx')\n",
    "# query = \"\"\"\n",
    "# SELECT [IdManifestacao]\n",
    "# FROM [db_denuncias_origem].[eouv].[Manifestacao]\n",
    "# WHERE [DatRegistro] < convert(datetime, '01/06/2021', 103)\n",
    "# ORDER BY [DatRegistro] desc\n",
    "# \"\"\"\n",
    "# df_datas = pd.read_sql(query, sdp)"
   ]
  },
  {
   "cell_type": "code",
   "execution_count": 4,
   "metadata": {},
   "outputs": [],
   "source": [
    "# # dataset não anonimizado\n",
    "# # não será disponibilizado com o código \n",
    "# # fonte devido a restrições de sigilo institucional\n",
    "# df = pd.read_parquet('datasets/df_treinamento_faro.parquet')\n",
    "# df = df[df['IdManifestacao'].isin(df_datas['IdManifestacao'])].copy()\n",
    "# df['TextoCompleto'] = df['TxtFatoManifestacao'].str.cat(df['TextoAnexo'], sep=' ').astype(str)\n",
    "# X_txt, y_txt = df[['TextoCompleto']], df['GrauAptidao'].apply(lambda x: 1 if x > 50 else 0)"
   ]
  },
  {
   "cell_type": "code",
   "execution_count": 5,
   "metadata": {},
   "outputs": [],
   "source": [
    "# %%time\n",
    "# # preprocessamento do texto (remoção de stopwords, remoção de acentos, remoção de pontuações, remoção de números, transformação de todos os caracteres em lowercase)\n",
    "# X_txt = TextCleaner(n_jobs=N_JOBS).fit_transform(X_txt['TextoCompleto']).to_frame()"
   ]
  },
  {
   "cell_type": "code",
   "execution_count": 6,
   "metadata": {},
   "outputs": [],
   "source": [
    "# %%time\n",
    "\n",
    "# # separação do dataset em treino e teste\n",
    "# X_txt_train, X_txt_test, y_txt_train, y_txt_test = train_test_split(X_txt, y_txt, test_size=.2, random_state=DEFAULT_RANDOM_STATE, stratify=y_txt) \n",
    "\n",
    "# # utiliza o tf-idf para aprender o vocabulário e pesos a partir dos dados de treinamento\n",
    "# tf_idf = TfidfVectorizer(min_df=5, max_df=.5, max_features=2000)\n",
    "# tf_idf.fit(X_txt_train['TextoCompleto'])"
   ]
  },
  {
   "cell_type": "code",
   "execution_count": 7,
   "metadata": {},
   "outputs": [],
   "source": [
    "# transforma os datasets de treinamento\n",
    "# X_txt_train_idf = tf_idf.transform(X_txt_train['TextoCompleto'])\n",
    "# X_txt_test_idf = tf_idf.transform(X_txt_test['TextoCompleto'])"
   ]
  },
  {
   "cell_type": "code",
   "execution_count": 8,
   "metadata": {},
   "outputs": [],
   "source": [
    "# X_txt_train.index\n",
    "# X_txt_train_idf.todense().shape"
   ]
  },
  {
   "cell_type": "code",
   "execution_count": 9,
   "metadata": {},
   "outputs": [],
   "source": [
    "# df_tmp = pd.DataFrame(X_txt_train_idf.todense(), \n",
    "#                       index=X_txt_train.index,\n",
    "#                       columns=[f'{i:>04}' for i in range(0, X_txt_train_idf.shape[1])])\n",
    "# df_tmp['LABEL'] = y_txt_train\n",
    "# df_tmp.to_parquet('datasets/df_train_txt.parquet')\n",
    "\n",
    "# df_tmp = pd.DataFrame(X_txt_test_idf.todense(), \n",
    "#                       index=X_txt_test.index,\n",
    "#                       columns=[f'{i:>04}' for i in range(0, X_txt_test_idf.shape[1])])\n",
    "# df_tmp['LABEL'] = y_txt_test\n",
    "# df_tmp.to_parquet('datasets/df_test_txt.parquet')"
   ]
  },
  {
   "cell_type": "code",
   "execution_count": 10,
   "metadata": {},
   "outputs": [],
   "source": [
    "df_train = pd.read_parquet('datasets/df_train_txt.parquet')\n",
    "X_txt_train_idf, y_txt_train = df_train.drop(columns=['LABEL']), df_train['LABEL']\n",
    "\n",
    "df_test = pd.read_parquet('datasets/df_test_txt.parquet')\n",
    "X_txt_test_idf, y_txt_test = df_test.drop(columns=['LABEL']), df_test['LABEL']"
   ]
  },
  {
   "cell_type": "code",
   "execution_count": 11,
   "metadata": {},
   "outputs": [
    {
     "name": "stdout",
     "output_type": "stream",
     "text": [
      "[2021-10-13 19:04:33,297][<timed exec>:<module>:110 INFO] Início\n",
      "[2021-10-13 19:04:33,302][<timed exec>:<module>:112 INFO] Modelo: RandomForestClassifier\n",
      "Fitting 10 folds for each of 24 candidates, totalling 240 fits\n"
     ]
    },
    {
     "name": "stderr",
     "output_type": "stream",
     "text": [
      "[Parallel(n_jobs=-1)]: Using backend LokyBackend with 8 concurrent workers.\n",
      "[Parallel(n_jobs=-1)]: Done  34 tasks      | elapsed:    9.6s\n",
      "[Parallel(n_jobs=-1)]: Done 184 tasks      | elapsed:   32.9s\n",
      "[Parallel(n_jobs=-1)]: Done 240 out of 240 | elapsed:   40.9s finished\n",
      "[Parallel(n_jobs=1)]: Using backend SequentialBackend with 1 concurrent workers.\n"
     ]
    },
    {
     "name": "stdout",
     "output_type": "stream",
     "text": [
      "[2021-10-13 19:05:29,575][<timed exec>:<module>:112 INFO] Modelo: LogisticRegression\n"
     ]
    },
    {
     "name": "stderr",
     "output_type": "stream",
     "text": [
      "[Parallel(n_jobs=1)]: Done  10 out of  10 | elapsed:   13.5s finished\n",
      "[Parallel(n_jobs=-1)]: Using backend LokyBackend with 8 concurrent workers.\n"
     ]
    },
    {
     "name": "stdout",
     "output_type": "stream",
     "text": [
      "Fitting 10 folds for each of 1 candidates, totalling 10 fits\n"
     ]
    },
    {
     "name": "stderr",
     "output_type": "stream",
     "text": [
      "[Parallel(n_jobs=-1)]: Done   6 out of  10 | elapsed:    0.3s remaining:    0.2s\n",
      "[Parallel(n_jobs=-1)]: Done  10 out of  10 | elapsed:    0.5s finished\n",
      "[Parallel(n_jobs=1)]: Using backend SequentialBackend with 1 concurrent workers.\n"
     ]
    },
    {
     "name": "stdout",
     "output_type": "stream",
     "text": [
      "[2021-10-13 19:05:32,531][<timed exec>:<module>:112 INFO] Modelo: XGBClassifier\n"
     ]
    },
    {
     "name": "stderr",
     "output_type": "stream",
     "text": [
      "[Parallel(n_jobs=1)]: Done  10 out of  10 | elapsed:    1.8s finished\n",
      "[Parallel(n_jobs=-1)]: Using backend LokyBackend with 8 concurrent workers.\n"
     ]
    },
    {
     "name": "stdout",
     "output_type": "stream",
     "text": [
      "Fitting 10 folds for each of 6 candidates, totalling 60 fits\n"
     ]
    },
    {
     "name": "stderr",
     "output_type": "stream",
     "text": [
      "[Parallel(n_jobs=-1)]: Done  34 tasks      | elapsed:  3.4min\n",
      "[Parallel(n_jobs=-1)]: Done  60 out of  60 | elapsed:  7.0min finished\n",
      "[Parallel(n_jobs=1)]: Using backend SequentialBackend with 1 concurrent workers.\n",
      "[Parallel(n_jobs=1)]: Done  10 out of  10 | elapsed:  1.7min finished\n"
     ]
    },
    {
     "name": "stdout",
     "output_type": "stream",
     "text": [
      "[2021-10-13 19:14:30,482][<timed exec>:<module>:112 INFO] Modelo: KNeighborsClassifier\n",
      "Fitting 10 folds for each of 4 candidates, totalling 40 fits\n"
     ]
    },
    {
     "name": "stderr",
     "output_type": "stream",
     "text": [
      "[Parallel(n_jobs=-1)]: Using backend LokyBackend with 8 concurrent workers.\n",
      "[Parallel(n_jobs=-1)]: Done  40 out of  40 | elapsed:   34.5s finished\n",
      "[Parallel(n_jobs=1)]: Using backend SequentialBackend with 1 concurrent workers.\n",
      "[Parallel(n_jobs=1)]: Done  10 out of  10 | elapsed:  1.2min finished\n"
     ]
    },
    {
     "name": "stdout",
     "output_type": "stream",
     "text": [
      "[2021-10-13 19:16:52,077][<timed exec>:<module>:112 INFO] Modelo: BaggingClassifier\n",
      "Fitting 10 folds for each of 1 candidates, totalling 10 fits\n"
     ]
    },
    {
     "name": "stderr",
     "output_type": "stream",
     "text": [
      "[Parallel(n_jobs=-1)]: Using backend LokyBackend with 8 concurrent workers.\n",
      "[Parallel(n_jobs=-1)]: Done   6 out of  10 | elapsed:    9.0s remaining:    6.0s\n",
      "[Parallel(n_jobs=-1)]: Done  10 out of  10 | elapsed:   14.1s finished\n",
      "[Parallel(n_jobs=1)]: Using backend SequentialBackend with 1 concurrent workers.\n"
     ]
    },
    {
     "name": "stdout",
     "output_type": "stream",
     "text": [
      "[2021-10-13 19:18:01,690][<timed exec>:<module>:112 INFO] Modelo: ExtraTreesClassifier\n"
     ]
    },
    {
     "name": "stderr",
     "output_type": "stream",
     "text": [
      "[Parallel(n_jobs=1)]: Done  10 out of  10 | elapsed:   49.1s finished\n",
      "[Parallel(n_jobs=-1)]: Using backend LokyBackend with 8 concurrent workers.\n"
     ]
    },
    {
     "name": "stdout",
     "output_type": "stream",
     "text": [
      "Fitting 10 folds for each of 2 candidates, totalling 20 fits\n"
     ]
    },
    {
     "name": "stderr",
     "output_type": "stream",
     "text": [
      "[Parallel(n_jobs=-1)]: Done  20 out of  20 | elapsed:    5.0s finished\n",
      "[Parallel(n_jobs=1)]: Using backend SequentialBackend with 1 concurrent workers.\n"
     ]
    },
    {
     "name": "stdout",
     "output_type": "stream",
     "text": [
      "[2021-10-13 19:18:18,451][<timed exec>:<module>:112 INFO] Modelo: SGDClassifier\n"
     ]
    },
    {
     "name": "stderr",
     "output_type": "stream",
     "text": [
      "[Parallel(n_jobs=1)]: Done  10 out of  10 | elapsed:   10.2s finished\n",
      "[Parallel(n_jobs=-1)]: Using backend LokyBackend with 8 concurrent workers.\n"
     ]
    },
    {
     "name": "stdout",
     "output_type": "stream",
     "text": [
      "Fitting 10 folds for each of 1 candidates, totalling 10 fits\n"
     ]
    },
    {
     "name": "stderr",
     "output_type": "stream",
     "text": [
      "[Parallel(n_jobs=-1)]: Done   6 out of  10 | elapsed:    1.0s remaining:    0.6s\n",
      "[Parallel(n_jobs=-1)]: Done  10 out of  10 | elapsed:    1.7s finished\n",
      "[Parallel(n_jobs=1)]: Using backend SequentialBackend with 1 concurrent workers.\n"
     ]
    },
    {
     "name": "stdout",
     "output_type": "stream",
     "text": [
      "[2021-10-13 19:18:27,461][<timed exec>:<module>:112 INFO] Modelo: SVC\n"
     ]
    },
    {
     "name": "stderr",
     "output_type": "stream",
     "text": [
      "[Parallel(n_jobs=1)]: Done  10 out of  10 | elapsed:    6.3s finished\n",
      "[Parallel(n_jobs=-1)]: Using backend LokyBackend with 8 concurrent workers.\n"
     ]
    },
    {
     "name": "stdout",
     "output_type": "stream",
     "text": [
      "Fitting 10 folds for each of 1 candidates, totalling 10 fits\n"
     ]
    },
    {
     "name": "stderr",
     "output_type": "stream",
     "text": [
      "[Parallel(n_jobs=-1)]: Done   6 out of  10 | elapsed:   43.5s remaining:   28.9s\n",
      "[Parallel(n_jobs=-1)]: Done  10 out of  10 | elapsed:  1.1min finished\n",
      "[Parallel(n_jobs=1)]: Using backend SequentialBackend with 1 concurrent workers.\n",
      "[Parallel(n_jobs=1)]: Done  10 out of  10 | elapsed:  4.2min finished\n"
     ]
    },
    {
     "name": "stdout",
     "output_type": "stream",
     "text": [
      "[2021-10-13 19:24:35,356][<timed exec>:<module>:112 INFO] Modelo: NuSVC\n",
      "Fitting 10 folds for each of 1 candidates, totalling 10 fits\n"
     ]
    },
    {
     "name": "stderr",
     "output_type": "stream",
     "text": [
      "[Parallel(n_jobs=-1)]: Using backend LokyBackend with 8 concurrent workers.\n",
      "[Parallel(n_jobs=-1)]: Done   6 out of  10 | elapsed:   46.8s remaining:   31.2s\n",
      "[Parallel(n_jobs=-1)]: Done  10 out of  10 | elapsed:  1.0min finished\n",
      "[Parallel(n_jobs=1)]: Using backend SequentialBackend with 1 concurrent workers.\n",
      "[Parallel(n_jobs=1)]: Done  10 out of  10 | elapsed:  2.7min finished\n"
     ]
    },
    {
     "name": "stdout",
     "output_type": "stream",
     "text": [
      "[2021-10-13 19:28:48,065][<timed exec>:<module>:112 INFO] Modelo: LinearSVC\n",
      "Fitting 10 folds for each of 1 candidates, totalling 10 fits\n"
     ]
    },
    {
     "name": "stderr",
     "output_type": "stream",
     "text": [
      "[Parallel(n_jobs=-1)]: Using backend LokyBackend with 8 concurrent workers.\n",
      "[Parallel(n_jobs=-1)]: Done   6 out of  10 | elapsed:    0.3s remaining:    0.2s\n",
      "[Parallel(n_jobs=-1)]: Done  10 out of  10 | elapsed:    0.5s finished\n",
      "[Parallel(n_jobs=1)]: Using backend SequentialBackend with 1 concurrent workers.\n"
     ]
    },
    {
     "name": "stdout",
     "output_type": "stream",
     "text": [
      "[2021-10-13 19:28:51,235][<timed exec>:<module>:112 INFO] Modelo: BernoulliNB\n"
     ]
    },
    {
     "name": "stderr",
     "output_type": "stream",
     "text": [
      "[Parallel(n_jobs=1)]: Done  10 out of  10 | elapsed:    2.0s finished\n",
      "[Parallel(n_jobs=-1)]: Using backend LokyBackend with 8 concurrent workers.\n"
     ]
    },
    {
     "name": "stdout",
     "output_type": "stream",
     "text": [
      "Fitting 10 folds for each of 1 candidates, totalling 10 fits\n"
     ]
    },
    {
     "name": "stderr",
     "output_type": "stream",
     "text": [
      "[Parallel(n_jobs=-1)]: Done   6 out of  10 | elapsed:    0.4s remaining:    0.3s\n",
      "[Parallel(n_jobs=-1)]: Done  10 out of  10 | elapsed:    0.7s finished\n",
      "[Parallel(n_jobs=1)]: Using backend SequentialBackend with 1 concurrent workers.\n"
     ]
    },
    {
     "name": "stdout",
     "output_type": "stream",
     "text": [
      "[2021-10-13 19:28:54,812][<timed exec>:<module>:112 INFO] Modelo: LGBMClassifier\n"
     ]
    },
    {
     "name": "stderr",
     "output_type": "stream",
     "text": [
      "[Parallel(n_jobs=1)]: Done  10 out of  10 | elapsed:    2.1s finished\n"
     ]
    },
    {
     "name": "stdout",
     "output_type": "stream",
     "text": [
      "Fitting 10 folds for each of 4 candidates, totalling 40 fits\n"
     ]
    },
    {
     "name": "stderr",
     "output_type": "stream",
     "text": [
      "[Parallel(n_jobs=-1)]: Using backend LokyBackend with 8 concurrent workers.\n",
      "[Parallel(n_jobs=-1)]: Done  40 out of  40 | elapsed:   46.5s finished\n",
      "[Parallel(n_jobs=1)]: Using backend SequentialBackend with 1 concurrent workers.\n"
     ]
    },
    {
     "name": "stdout",
     "output_type": "stream",
     "text": [
      "[2021-10-13 19:30:10,767][<timed exec>:<module>:112 INFO] Modelo: MLPClassifier\n"
     ]
    },
    {
     "name": "stderr",
     "output_type": "stream",
     "text": [
      "[Parallel(n_jobs=1)]: Done  10 out of  10 | elapsed:   26.1s finished\n",
      "[Parallel(n_jobs=-1)]: Using backend LokyBackend with 8 concurrent workers.\n"
     ]
    },
    {
     "name": "stdout",
     "output_type": "stream",
     "text": [
      "Fitting 10 folds for each of 1 candidates, totalling 10 fits\n"
     ]
    },
    {
     "name": "stderr",
     "output_type": "stream",
     "text": [
      "[Parallel(n_jobs=-1)]: Done   6 out of  10 | elapsed:   36.7s remaining:   24.4s\n",
      "[Parallel(n_jobs=-1)]: Done  10 out of  10 | elapsed:   52.0s finished\n",
      "[Parallel(n_jobs=1)]: Using backend SequentialBackend with 1 concurrent workers.\n"
     ]
    },
    {
     "name": "stdout",
     "output_type": "stream",
     "text": [
      "[2021-10-13 19:33:21,288][<timed exec>:<module>:112 INFO] Modelo: AdaBoostClassifier\n"
     ]
    },
    {
     "name": "stderr",
     "output_type": "stream",
     "text": [
      "[Parallel(n_jobs=1)]: Done  10 out of  10 | elapsed:  2.1min finished\n",
      "[Parallel(n_jobs=-1)]: Using backend LokyBackend with 8 concurrent workers.\n"
     ]
    },
    {
     "name": "stdout",
     "output_type": "stream",
     "text": [
      "Fitting 10 folds for each of 1 candidates, totalling 10 fits\n"
     ]
    },
    {
     "name": "stderr",
     "output_type": "stream",
     "text": [
      "[Parallel(n_jobs=-1)]: Done   6 out of  10 | elapsed:    6.3s remaining:    4.1s\n",
      "[Parallel(n_jobs=-1)]: Done  10 out of  10 | elapsed:    9.9s finished\n",
      "[Parallel(n_jobs=1)]: Using backend SequentialBackend with 1 concurrent workers.\n",
      "[Parallel(n_jobs=1)]: Done  10 out of  10 | elapsed:   34.1s finished\n"
     ]
    },
    {
     "name": "stdout",
     "output_type": "stream",
     "text": [
      "[2021-10-13 19:34:10,140][<timed exec>:<module>:134 INFO] Fim\n",
      "Wall time: 29min 36s\n"
     ]
    }
   ],
   "source": [
    "%%time\n",
    "\n",
    "pipeline = Pipeline(steps=[\n",
    "    ('model', RandomForestClassifier())\n",
    "])\n",
    "\n",
    "metrics = ['roc_auc','balanced_accuracy', 'average_precision', 'recall', 'accuracy', 'f1_macro','f1_weighted']\n",
    "\n",
    "results = [\n",
    "    \n",
    "]\n",
    "\n",
    "model = [\n",
    "    RandomForestClassifier,\n",
    "    LogisticRegression,\n",
    "    XGBClassifier,\n",
    "    KNeighborsClassifier,\n",
    "    BaggingClassifier,\n",
    "    ExtraTreesClassifier,\n",
    "    SGDClassifier,\n",
    "    SVC, \n",
    "    NuSVC, \n",
    "    LinearSVC,\n",
    "    BernoulliNB, \n",
    "    LGBMClassifier,\n",
    "    MLPClassifier,\n",
    "    AdaBoostClassifier,\n",
    "]\n",
    "\n",
    "N_ESTIMATORS_ITERATORS = 200\n",
    "POS_WEIGHT = pd.Series(y_txt_train).value_counts()[0]/pd.Series(y_txt_train).value_counts()[1]\n",
    "class_weight = {0: 1, 1: POS_WEIGHT}\n",
    "\n",
    "params = [\n",
    "    {\n",
    "        'model__n_estimators': [N_ESTIMATORS_ITERATORS],\n",
    "        'model__max_depth': [5,7,9],\n",
    "        'model__min_samples_split': [2,3],\n",
    "        'model__min_samples_leaf': [1,2],\n",
    "        'model__class_weight': [class_weight],\n",
    "        'model__random_state': [DEFAULT_RANDOM_STATE],\n",
    "        'model__max_samples': [.8, 1],\n",
    "    },\n",
    "    {\n",
    "        'model__penalty' : ['l2'],\n",
    "        'model__C' : [1],\n",
    "        'model__solver' : ['liblinear'],\n",
    "        'model__random_state': [DEFAULT_RANDOM_STATE],\n",
    "        'model__class_weight': [class_weight],\n",
    "    },\n",
    "    {\n",
    "        'model__learning_rate': [0.01],\n",
    "        'model__n_estimators': [N_ESTIMATORS_ITERATORS],\n",
    "        'model__subsample' : [.8,.45],\n",
    "        'model__min_child_weight': [1],\n",
    "        'model__max_depth': [3,4,7],\n",
    "        'model__random_state': [DEFAULT_RANDOM_STATE],\n",
    "        'model__reg_lambda': [2],\n",
    "        'model__scale_pos_weight': [POS_WEIGHT]\n",
    "    },\n",
    "    {\n",
    "        'model__n_neighbors' : [5,7,9,11],\n",
    "    },\n",
    "    {\n",
    "        'model__n_estimators': [5],\n",
    "        'model__max_samples': [.8],\n",
    "        'model__random_state': [DEFAULT_RANDOM_STATE],\n",
    "    },\n",
    "    {\n",
    "        'model__n_estimators': [N_ESTIMATORS_ITERATORS],\n",
    "        'model__max_samples' : [.8],\n",
    "        'model__max_depth': [6,7],\n",
    "        'model__random_state': [DEFAULT_RANDOM_STATE],\n",
    "        'model__class_weight': [class_weight],\n",
    "    },\n",
    "    {\n",
    "        'model__random_state': [DEFAULT_RANDOM_STATE],\n",
    "        'model__class_weight': [class_weight],\n",
    "    },\n",
    "    {\n",
    "        'model__gamma': ['auto'],\n",
    "        'model__C': [0.5],\n",
    "        'model__random_state': [DEFAULT_RANDOM_STATE],\n",
    "        'model__class_weight': [class_weight],\n",
    "    },\n",
    "    {\n",
    "        'model__gamma': ['auto'],\n",
    "        'model__random_state': [DEFAULT_RANDOM_STATE],\n",
    "        'model__class_weight': [class_weight],\n",
    "    },\n",
    "    {\n",
    "        'model__random_state': [DEFAULT_RANDOM_STATE],\n",
    "        'model__class_weight': [class_weight],\n",
    "    },\n",
    "    {\n",
    "    },\n",
    "    {\n",
    "        'model__n_estimators': [N_ESTIMATORS_ITERATORS],\n",
    "        'model__subsample': [.6,.7,.8,1],\n",
    "        'model__random_state': [DEFAULT_RANDOM_STATE],\n",
    "        'model__class_weight': [class_weight],\n",
    "    },\n",
    "    {\n",
    "        'model__alpha': [1], \n",
    "        'model__max_iter': [50],\n",
    "    },\n",
    "    {\n",
    "    }\n",
    "]\n",
    "\n",
    "\n",
    "logging.info('Início')\n",
    "for m, p in zip(model, params):\n",
    "    logging.info('Modelo: {}'.format(m.__name__))\n",
    "    \n",
    "    p['model'] = [m()]\n",
    "    \n",
    "    rskfcv = RepeatedStratifiedKFold(n_splits=10, n_repeats=1, random_state=DEFAULT_RANDOM_STATE)\n",
    "    cv = GridSearchCV(estimator=pipeline,param_grid=p, cv=rskfcv, n_jobs=N_JOBS, error_score=0, refit=True, scoring='roc_auc', verbose=1)\n",
    "    cv.fit(X_txt_train_idf, y_txt_train)\n",
    "    model = cv.best_estimator_\n",
    "    best_params = cv.best_params_\n",
    "    \n",
    "    valores = cross_validate(m(**{k[7:]: v for k,v in best_params.items() if k.startswith('model__')}), X_txt_train_idf, y_txt_train, scoring=metrics, cv=rskfcv, verbose=1)\n",
    "    cv_scores = {k[5:]: np.mean(v) for k, v in valores.items() if k not in ['fit_time', 'score_time']}\n",
    "\n",
    "    linha = {\n",
    "        'Modelo': m.__name__,\n",
    "        'ScoreTreino': cv.score(X_txt_train_idf, y_txt_train),\n",
    "        'BestParams': best_params,\n",
    "        'RawScores': {k[5:]: v for k, v in valores.items() if k not in ['fit_time', 'score_time']}\n",
    "    }\n",
    "    linha.update(cv_scores)\n",
    "    results.append(linha)\n",
    "\n",
    "logging.info('Fim')"
   ]
  },
  {
   "cell_type": "code",
   "execution_count": 12,
   "metadata": {},
   "outputs": [
    {
     "data": {
      "text/html": [
       "<div>\n",
       "<style scoped>\n",
       "    .dataframe tbody tr th:only-of-type {\n",
       "        vertical-align: middle;\n",
       "    }\n",
       "\n",
       "    .dataframe tbody tr th {\n",
       "        vertical-align: top;\n",
       "    }\n",
       "\n",
       "    .dataframe thead th {\n",
       "        text-align: right;\n",
       "    }\n",
       "</style>\n",
       "<table border=\"1\" class=\"dataframe\">\n",
       "  <thead>\n",
       "    <tr style=\"text-align: right;\">\n",
       "      <th></th>\n",
       "      <th>Modelo</th>\n",
       "      <th>ScoreTreino</th>\n",
       "      <th>BestParams</th>\n",
       "      <th>RawScores</th>\n",
       "      <th>roc_auc</th>\n",
       "      <th>balanced_accuracy</th>\n",
       "      <th>average_precision</th>\n",
       "      <th>recall</th>\n",
       "      <th>accuracy</th>\n",
       "      <th>f1_macro</th>\n",
       "      <th>f1_weighted</th>\n",
       "    </tr>\n",
       "  </thead>\n",
       "  <tbody>\n",
       "    <tr>\n",
       "      <th>12</th>\n",
       "      <td>MLPClassifier</td>\n",
       "      <td>0.894099</td>\n",
       "      <td>{'model': MLPClassifier(alpha=1, max_iter=50),...</td>\n",
       "      <td>{'roc_auc': [0.8013980263157895, 0.82748538011...</td>\n",
       "      <td>0.793876</td>\n",
       "      <td>0.629697</td>\n",
       "      <td>0.625039</td>\n",
       "      <td>0.333988</td>\n",
       "      <td>0.750000</td>\n",
       "      <td>0.640681</td>\n",
       "      <td>0.721269</td>\n",
       "    </tr>\n",
       "    <tr>\n",
       "      <th>1</th>\n",
       "      <td>LogisticRegression</td>\n",
       "      <td>0.923601</td>\n",
       "      <td>{'model': LogisticRegression(C=1, class_weight...</td>\n",
       "      <td>{'roc_auc': [0.7996619152046783, 0.82775950292...</td>\n",
       "      <td>0.792073</td>\n",
       "      <td>0.722680</td>\n",
       "      <td>0.620465</td>\n",
       "      <td>0.697208</td>\n",
       "      <td>0.733025</td>\n",
       "      <td>0.702772</td>\n",
       "      <td>0.741246</td>\n",
       "    </tr>\n",
       "    <tr>\n",
       "      <th>0</th>\n",
       "      <td>RandomForestClassifier</td>\n",
       "      <td>0.913656</td>\n",
       "      <td>{'model': RandomForestClassifier(class_weight=...</td>\n",
       "      <td>{'roc_auc': [0.7711531432748537, 0.79262609649...</td>\n",
       "      <td>0.779384</td>\n",
       "      <td>0.682731</td>\n",
       "      <td>0.593682</td>\n",
       "      <td>0.559837</td>\n",
       "      <td>0.732716</td>\n",
       "      <td>0.681582</td>\n",
       "      <td>0.733388</td>\n",
       "    </tr>\n",
       "    <tr>\n",
       "      <th>2</th>\n",
       "      <td>XGBClassifier</td>\n",
       "      <td>0.905125</td>\n",
       "      <td>{'model': XGBClassifier(base_score=None, boost...</td>\n",
       "      <td>{'roc_auc': [0.768046418128655, 0.800073099415...</td>\n",
       "      <td>0.776782</td>\n",
       "      <td>0.692697</td>\n",
       "      <td>0.595321</td>\n",
       "      <td>0.625408</td>\n",
       "      <td>0.720062</td>\n",
       "      <td>0.681328</td>\n",
       "      <td>0.726365</td>\n",
       "    </tr>\n",
       "    <tr>\n",
       "      <th>5</th>\n",
       "      <td>ExtraTreesClassifier</td>\n",
       "      <td>0.910055</td>\n",
       "      <td>{'model': ExtraTreesClassifier(class_weight={0...</td>\n",
       "      <td>{'roc_auc': [0.7737116228070176, 0.79472770467...</td>\n",
       "      <td>0.774299</td>\n",
       "      <td>0.691214</td>\n",
       "      <td>0.588236</td>\n",
       "      <td>0.623314</td>\n",
       "      <td>0.718827</td>\n",
       "      <td>0.679860</td>\n",
       "      <td>0.725151</td>\n",
       "    </tr>\n",
       "    <tr>\n",
       "      <th>7</th>\n",
       "      <td>SVC</td>\n",
       "      <td>0.806066</td>\n",
       "      <td>{'model': SVC(C=0.5, class_weight={0: 1, 1: 2....</td>\n",
       "      <td>{'roc_auc': [0.7622898391812866, 0.78138706140...</td>\n",
       "      <td>0.773076</td>\n",
       "      <td>0.500000</td>\n",
       "      <td>0.531993</td>\n",
       "      <td>0.900000</td>\n",
       "      <td>0.336728</td>\n",
       "      <td>0.246912</td>\n",
       "      <td>0.179633</td>\n",
       "    </tr>\n",
       "    <tr>\n",
       "      <th>11</th>\n",
       "      <td>LGBMClassifier</td>\n",
       "      <td>0.998511</td>\n",
       "      <td>{'model': LGBMClassifier(class_weight={0: 1, 1...</td>\n",
       "      <td>{'roc_auc': [0.7295778508771928, 0.81387061403...</td>\n",
       "      <td>0.763812</td>\n",
       "      <td>0.680994</td>\n",
       "      <td>0.579903</td>\n",
       "      <td>0.543202</td>\n",
       "      <td>0.737037</td>\n",
       "      <td>0.682372</td>\n",
       "      <td>0.735918</td>\n",
       "    </tr>\n",
       "    <tr>\n",
       "      <th>8</th>\n",
       "      <td>NuSVC</td>\n",
       "      <td>0.923391</td>\n",
       "      <td>{'model': NuSVC(class_weight={0: 1, 1: 2.37148...</td>\n",
       "      <td>{'roc_auc': [0.7903874269005848, 0.79947916666...</td>\n",
       "      <td>0.760336</td>\n",
       "      <td>0.665261</td>\n",
       "      <td>0.586163</td>\n",
       "      <td>0.459966</td>\n",
       "      <td>0.748765</td>\n",
       "      <td>0.675006</td>\n",
       "      <td>0.737913</td>\n",
       "    </tr>\n",
       "    <tr>\n",
       "      <th>9</th>\n",
       "      <td>LinearSVC</td>\n",
       "      <td>0.978943</td>\n",
       "      <td>{'model': LinearSVC(class_weight={0: 1, 1: 2.3...</td>\n",
       "      <td>{'roc_auc': [0.7418220029239766, 0.79376827485...</td>\n",
       "      <td>0.747210</td>\n",
       "      <td>0.686523</td>\n",
       "      <td>0.549122</td>\n",
       "      <td>0.622272</td>\n",
       "      <td>0.712654</td>\n",
       "      <td>0.674135</td>\n",
       "      <td>0.719672</td>\n",
       "    </tr>\n",
       "    <tr>\n",
       "      <th>6</th>\n",
       "      <td>SGDClassifier</td>\n",
       "      <td>0.962716</td>\n",
       "      <td>{'model': SGDClassifier(class_weight={0: 1, 1:...</td>\n",
       "      <td>{'roc_auc': [0.7404970760233918, 0.78732638888...</td>\n",
       "      <td>0.741808</td>\n",
       "      <td>0.686177</td>\n",
       "      <td>0.540099</td>\n",
       "      <td>0.651407</td>\n",
       "      <td>0.700309</td>\n",
       "      <td>0.667499</td>\n",
       "      <td>0.709874</td>\n",
       "    </tr>\n",
       "    <tr>\n",
       "      <th>3</th>\n",
       "      <td>KNeighborsClassifier</td>\n",
       "      <td>0.843772</td>\n",
       "      <td>{'model': KNeighborsClassifier(n_neighbors=11)...</td>\n",
       "      <td>{'roc_auc': [0.7209429824561404, 0.75388340643...</td>\n",
       "      <td>0.738733</td>\n",
       "      <td>0.621786</td>\n",
       "      <td>0.530419</td>\n",
       "      <td>0.353726</td>\n",
       "      <td>0.730864</td>\n",
       "      <td>0.629979</td>\n",
       "      <td>0.708482</td>\n",
       "    </tr>\n",
       "    <tr>\n",
       "      <th>13</th>\n",
       "      <td>AdaBoostClassifier</td>\n",
       "      <td>0.838239</td>\n",
       "      <td>{'model': AdaBoostClassifier()}</td>\n",
       "      <td>{'roc_auc': [0.7441063596491228, 0.76690423976...</td>\n",
       "      <td>0.718200</td>\n",
       "      <td>0.622871</td>\n",
       "      <td>0.535833</td>\n",
       "      <td>0.367279</td>\n",
       "      <td>0.726852</td>\n",
       "      <td>0.630619</td>\n",
       "      <td>0.707266</td>\n",
       "    </tr>\n",
       "    <tr>\n",
       "      <th>10</th>\n",
       "      <td>BernoulliNB</td>\n",
       "      <td>0.723842</td>\n",
       "      <td>{'model': BernoulliNB()}</td>\n",
       "      <td>{'roc_auc': [0.7015716374269005, 0.71084612573...</td>\n",
       "      <td>0.699791</td>\n",
       "      <td>0.622227</td>\n",
       "      <td>0.469046</td>\n",
       "      <td>0.448486</td>\n",
       "      <td>0.692901</td>\n",
       "      <td>0.624457</td>\n",
       "      <td>0.689637</td>\n",
       "    </tr>\n",
       "    <tr>\n",
       "      <th>4</th>\n",
       "      <td>BaggingClassifier</td>\n",
       "      <td>0.976515</td>\n",
       "      <td>{'model': BaggingClassifier(max_samples=0.8, n...</td>\n",
       "      <td>{'roc_auc': [0.7197779605263158, 0.72720211988...</td>\n",
       "      <td>0.695156</td>\n",
       "      <td>0.637745</td>\n",
       "      <td>0.482287</td>\n",
       "      <td>0.453651</td>\n",
       "      <td>0.712654</td>\n",
       "      <td>0.641967</td>\n",
       "      <td>0.706629</td>\n",
       "    </tr>\n",
       "  </tbody>\n",
       "</table>\n",
       "</div>"
      ],
      "text/plain": [
       "                    Modelo  ScoreTreino  \\\n",
       "12           MLPClassifier     0.894099   \n",
       "1       LogisticRegression     0.923601   \n",
       "0   RandomForestClassifier     0.913656   \n",
       "2            XGBClassifier     0.905125   \n",
       "5     ExtraTreesClassifier     0.910055   \n",
       "7                      SVC     0.806066   \n",
       "11          LGBMClassifier     0.998511   \n",
       "8                    NuSVC     0.923391   \n",
       "9                LinearSVC     0.978943   \n",
       "6            SGDClassifier     0.962716   \n",
       "3     KNeighborsClassifier     0.843772   \n",
       "13      AdaBoostClassifier     0.838239   \n",
       "10             BernoulliNB     0.723842   \n",
       "4        BaggingClassifier     0.976515   \n",
       "\n",
       "                                           BestParams  \\\n",
       "12  {'model': MLPClassifier(alpha=1, max_iter=50),...   \n",
       "1   {'model': LogisticRegression(C=1, class_weight...   \n",
       "0   {'model': RandomForestClassifier(class_weight=...   \n",
       "2   {'model': XGBClassifier(base_score=None, boost...   \n",
       "5   {'model': ExtraTreesClassifier(class_weight={0...   \n",
       "7   {'model': SVC(C=0.5, class_weight={0: 1, 1: 2....   \n",
       "11  {'model': LGBMClassifier(class_weight={0: 1, 1...   \n",
       "8   {'model': NuSVC(class_weight={0: 1, 1: 2.37148...   \n",
       "9   {'model': LinearSVC(class_weight={0: 1, 1: 2.3...   \n",
       "6   {'model': SGDClassifier(class_weight={0: 1, 1:...   \n",
       "3   {'model': KNeighborsClassifier(n_neighbors=11)...   \n",
       "13                    {'model': AdaBoostClassifier()}   \n",
       "10                           {'model': BernoulliNB()}   \n",
       "4   {'model': BaggingClassifier(max_samples=0.8, n...   \n",
       "\n",
       "                                            RawScores   roc_auc  \\\n",
       "12  {'roc_auc': [0.8013980263157895, 0.82748538011...  0.793876   \n",
       "1   {'roc_auc': [0.7996619152046783, 0.82775950292...  0.792073   \n",
       "0   {'roc_auc': [0.7711531432748537, 0.79262609649...  0.779384   \n",
       "2   {'roc_auc': [0.768046418128655, 0.800073099415...  0.776782   \n",
       "5   {'roc_auc': [0.7737116228070176, 0.79472770467...  0.774299   \n",
       "7   {'roc_auc': [0.7622898391812866, 0.78138706140...  0.773076   \n",
       "11  {'roc_auc': [0.7295778508771928, 0.81387061403...  0.763812   \n",
       "8   {'roc_auc': [0.7903874269005848, 0.79947916666...  0.760336   \n",
       "9   {'roc_auc': [0.7418220029239766, 0.79376827485...  0.747210   \n",
       "6   {'roc_auc': [0.7404970760233918, 0.78732638888...  0.741808   \n",
       "3   {'roc_auc': [0.7209429824561404, 0.75388340643...  0.738733   \n",
       "13  {'roc_auc': [0.7441063596491228, 0.76690423976...  0.718200   \n",
       "10  {'roc_auc': [0.7015716374269005, 0.71084612573...  0.699791   \n",
       "4   {'roc_auc': [0.7197779605263158, 0.72720211988...  0.695156   \n",
       "\n",
       "    balanced_accuracy  average_precision    recall  accuracy  f1_macro  \\\n",
       "12           0.629697           0.625039  0.333988  0.750000  0.640681   \n",
       "1            0.722680           0.620465  0.697208  0.733025  0.702772   \n",
       "0            0.682731           0.593682  0.559837  0.732716  0.681582   \n",
       "2            0.692697           0.595321  0.625408  0.720062  0.681328   \n",
       "5            0.691214           0.588236  0.623314  0.718827  0.679860   \n",
       "7            0.500000           0.531993  0.900000  0.336728  0.246912   \n",
       "11           0.680994           0.579903  0.543202  0.737037  0.682372   \n",
       "8            0.665261           0.586163  0.459966  0.748765  0.675006   \n",
       "9            0.686523           0.549122  0.622272  0.712654  0.674135   \n",
       "6            0.686177           0.540099  0.651407  0.700309  0.667499   \n",
       "3            0.621786           0.530419  0.353726  0.730864  0.629979   \n",
       "13           0.622871           0.535833  0.367279  0.726852  0.630619   \n",
       "10           0.622227           0.469046  0.448486  0.692901  0.624457   \n",
       "4            0.637745           0.482287  0.453651  0.712654  0.641967   \n",
       "\n",
       "    f1_weighted  \n",
       "12     0.721269  \n",
       "1      0.741246  \n",
       "0      0.733388  \n",
       "2      0.726365  \n",
       "5      0.725151  \n",
       "7      0.179633  \n",
       "11     0.735918  \n",
       "8      0.737913  \n",
       "9      0.719672  \n",
       "6      0.709874  \n",
       "3      0.708482  \n",
       "13     0.707266  \n",
       "10     0.689637  \n",
       "4      0.706629  "
      ]
     },
     "execution_count": 12,
     "metadata": {},
     "output_type": "execute_result"
    }
   ],
   "source": [
    "df_results_txt = pd.DataFrame(results)\n",
    "df_results_txt = pd.DataFrame(df_results_txt)\n",
    "df_results_txt = df_results_txt.sort_values('roc_auc', ascending=False)\n",
    "df_results_txt"
   ]
  },
  {
   "cell_type": "code",
   "execution_count": 13,
   "metadata": {},
   "outputs": [
    {
     "data": {
      "image/png": "[encoded data removed]",
      "text/plain": [
       "<Figure size 1120x800 with 4 Axes>"
      ]
     },
     "metadata": {
      "needs_background": "light"
     },
     "output_type": "display_data"
    }
   ],
   "source": [
    "metricas = ['roc_auc', 'average_precision', 'balanced_accuracy', 'f1_weighted']\n",
    "\n",
    "matplotlib.rcParams.update({'font.size': 13})\n",
    "fig, axis = plt.subplots(2,2, figsize=(14, 10), dpi=80)\n",
    "\n",
    "axis = np.ravel(axis)\n",
    "for i, m in enumerate(metricas):\n",
    "    df_score = pd.DataFrame({m: s for m, s in zip(df_results_txt['Modelo'], df_results_txt['RawScores'].apply(lambda x: x[m]))})\n",
    "    df_score = pd.melt(df_score, var_name='Modelo', value_name='Score')\n",
    "    sns.boxplot(x='Modelo', y='Score', data=df_score, color='#45B39D', linewidth=1, ax=axis[i])\n",
    "    axis[i].set_xlabel('Modelo')\n",
    "    axis[i].set_ylabel(f'Score ({m})')\n",
    "    axis[i].set_xticklabels(labels=df_score['Modelo'].drop_duplicates(), rotation=70, ha='right', fontsize=12)\n",
    "    axis[i].grid(which='major',linestyle='--', linewidth=0.5, )\n",
    "    \n",
    "plt.tight_layout()\n",
    "# plt.savefig('./docs/tcc/fig_00500_comparacao_score_modelos_texto.png')\n",
    "plt.show()"
   ]
  },
  {
   "cell_type": "markdown",
   "metadata": {},
   "source": [
    "# Tunning Hiperparametros"
   ]
  },
  {
   "cell_type": "code",
   "execution_count": 14,
   "metadata": {},
   "outputs": [
    {
     "data": {
      "text/plain": [
       "{'model': MLPClassifier(alpha=1, max_iter=50),\n",
       " 'model__alpha': 1,\n",
       " 'model__max_iter': 50}"
      ]
     },
     "execution_count": 14,
     "metadata": {},
     "output_type": "execute_result"
    }
   ],
   "source": [
    "df_results_txt['BestParams'].iloc[0]"
   ]
  },
  {
   "cell_type": "code",
   "execution_count": 15,
   "metadata": {},
   "outputs": [
    {
     "name": "stdout",
     "output_type": "stream",
     "text": [
      "Iteration No: 1 started. Evaluating function at random point.\n",
      "[2021-10-13 19:34:11,676][2834506427.py:tune_lgbm:7 INFO] [535, 15, 3.662649769638912, 0.017999888677491395, 0.49361118426546197, 0.7884126564776514, 0.2998372247193154]\n",
      "Iteration No: 1 ended. Evaluation done at random point.\n",
      "Time taken: 505.4045\n",
      "Function value obtained: -0.7831\n",
      "Current minimum: -0.7831\n",
      "Iteration No: 2 started. Evaluating function at random point.\n",
      "[2021-10-13 19:42:37,081][2834506427.py:tune_lgbm:7 INFO] [187, 4, 0.7229054214304846, 0.019561565341170702, 0.4338469474162602, 3.612773873611456, 4.693378017988594]\n",
      "Iteration No: 2 ended. Evaluation done at random point.\n",
      "Time taken: 61.5816\n",
      "Function value obtained: -0.7710\n",
      "Current minimum: -0.7831\n",
      "Iteration No: 3 started. Evaluating function at random point.\n",
      "[2021-10-13 19:43:38,663][2834506427.py:tune_lgbm:7 INFO] [485, 1, 1.5281687923680936, 0.015790217305803912, 0.6591670111852694, 1.4632334095882296, 3.063145944664674]\n",
      "Iteration No: 3 ended. Evaluation done at random point.\n",
      "Time taken: 67.6800\n",
      "Function value obtained: -0.7467\n",
      "Current minimum: -0.7831\n",
      "Iteration No: 4 started. Evaluating function at random point.\n",
      "[2021-10-13 19:44:46,344][2834506427.py:tune_lgbm:7 INFO] [781, 16, 1.1715289887472184, 0.002809132392531342, 0.7710316055998525, 1.9184853364231425, 4.916322120175874]\n",
      "Iteration No: 4 ended. Evaluation done at random point.\n",
      "Time taken: 843.0375\n",
      "Function value obtained: -0.7837\n",
      "Current minimum: -0.7837\n",
      "Iteration No: 5 started. Evaluating function at random point.\n",
      "[2021-10-13 19:58:49,382][2834506427.py:tune_lgbm:7 INFO] [604, 3, 4.30110262961424, 0.020441195403774613, 0.6702995511817258, 0.07619215618773399, 4.711586760867416]\n",
      "Iteration No: 5 ended. Evaluation done at random point.\n",
      "Time taken: 158.9231\n",
      "Function value obtained: -0.7826\n",
      "Current minimum: -0.7837\n",
      "Iteration No: 6 started. Evaluating function at random point.\n",
      "[2021-10-13 20:01:28,305][2834506427.py:tune_lgbm:7 INFO] [113, 18, 1.9332283476741818, 0.0005773909413844045, 0.5385362953732895, 1.2127170754697987, 3.4194849589390373]\n",
      "Iteration No: 6 ended. Evaluation done at random point.\n",
      "Time taken: 130.6335\n",
      "Function value obtained: -0.7525\n",
      "Current minimum: -0.7837\n",
      "Iteration No: 7 started. Evaluating function at random point.\n",
      "[2021-10-13 20:03:38,938][2834506427.py:tune_lgbm:7 INFO] [527, 8, 0.18159872036493985, 0.027288680022155586, 0.5552679889600102, 3.3159861989263706, 1.565438269686161]\n",
      "Iteration No: 7 ended. Evaluation done at random point.\n",
      "Time taken: 308.1296\n",
      "Function value obtained: -0.7834\n",
      "Current minimum: -0.7837\n",
      "Iteration No: 8 started. Evaluating function at random point.\n",
      "[2021-10-13 20:08:47,068][2834506427.py:tune_lgbm:7 INFO] [489, 10, 2.8428246358217577, 0.0010362674444212017, 0.9053708647569992, 2.254273125515131, 1.9817996776490545]\n",
      "Iteration No: 8 ended. Evaluation done at random point.\n",
      "Time taken: 332.6896\n",
      "Function value obtained: -0.7530\n",
      "Current minimum: -0.7837\n",
      "Iteration No: 9 started. Evaluating function at random point.\n",
      "[2021-10-13 20:14:19,758][2834506427.py:tune_lgbm:7 INFO] [369, 16, 1.639438436341119, 0.017156274834721444, 0.7125005560154942, 4.806248401503253, 4.224223904903976]\n",
      "Iteration No: 9 ended. Evaluation done at random point.\n",
      "Time taken: 398.1821\n",
      "Function value obtained: -0.7849\n",
      "Current minimum: -0.7849\n",
      "Iteration No: 10 started. Evaluating function at random point.\n",
      "[2021-10-13 20:20:57,942][2834506427.py:tune_lgbm:7 INFO] [848, 18, 2.7030637406215083, 0.017643859853349063, 0.9791531843584829, 3.039100895956557, 1.3872359182924916]\n",
      "Iteration No: 10 ended. Evaluation done at random point.\n",
      "Time taken: 967.5043\n",
      "Function value obtained: -0.7751\n",
      "Current minimum: -0.7849\n",
      "Iteration No: 11 started. Evaluating function at random point.\n",
      "[2021-10-13 20:37:05,445][2834506427.py:tune_lgbm:7 INFO] [256, 15, 0.8346820259243827, 0.0005675285615616986, 0.6540408884238218, 1.9804587756960934, 1.4745059918430106]\n",
      "Iteration No: 11 ended. Evaluation done at random point.\n",
      "Time taken: 263.5316\n",
      "Function value obtained: -0.7568\n",
      "Current minimum: -0.7849\n",
      "Iteration No: 12 started. Evaluating function at random point.\n",
      "[2021-10-13 20:41:28,977][2834506427.py:tune_lgbm:7 INFO] [162, 11, 1.0022235964031379, 0.021369124387184635, 0.8741053243187235, 3.0337402741572475, 4.632241383781612]\n",
      "Iteration No: 12 ended. Evaluation done at random point.\n",
      "Time taken: 122.4220\n",
      "Function value obtained: -0.7800\n",
      "Current minimum: -0.7849\n",
      "Iteration No: 13 started. Evaluating function at random point.\n",
      "[2021-10-13 20:43:31,400][2834506427.py:tune_lgbm:7 INFO] [140, 7, 4.251692503171099, 0.013538575156732282, 0.4572460698942468, 1.8603830784693496, 3.3475178507914007]\n",
      "Iteration No: 13 ended. Evaluation done at random point.\n",
      "Time taken: 73.8086\n",
      "Function value obtained: -0.7698\n",
      "Current minimum: -0.7849\n",
      "Iteration No: 14 started. Evaluating function at random point.\n",
      "[2021-10-13 20:44:45,209][2834506427.py:tune_lgbm:7 INFO] [904, 3, 2.9605759606615587, 0.008314181610402918, 0.7367460555086207, 1.9208051050214117, 4.858843355991628]\n",
      "Iteration No: 14 ended. Evaluation done at random point.\n",
      "Time taken: 232.1839\n",
      "Function value obtained: -0.7761\n",
      "Current minimum: -0.7849\n",
      "Iteration No: 15 started. Evaluating function at random point.\n",
      "[2021-10-13 20:48:37,393][2834506427.py:tune_lgbm:7 INFO] [742, 1, 3.6114303106127177, 0.007155949100493777, 0.5536409936567944, 0.21176361179677247, 3.5562078195320797]\n",
      "Iteration No: 15 ended. Evaluation done at random point.\n",
      "Time taken: 101.1646\n",
      "Function value obtained: -0.7382\n",
      "Current minimum: -0.7849\n",
      "Iteration No: 16 started. Evaluating function at random point.\n",
      "[2021-10-13 20:50:18,559][2834506427.py:tune_lgbm:7 INFO] [957, 10, 2.202289144310193, 0.006131404149828347, 0.9374581574041118, 2.382097413678738, 2.820745104162155]\n",
      "Iteration No: 16 ended. Evaluation done at random point.\n",
      "Time taken: 632.0458\n",
      "Function value obtained: -0.7823\n",
      "Current minimum: -0.7849\n",
      "Iteration No: 17 started. Evaluating function at random point.\n",
      "[2021-10-13 21:00:50,604][2834506427.py:tune_lgbm:7 INFO] [999, 5, 1.2539682234528862, 0.01237044939876533, 0.8533306831258293, 1.1517028458031964, 0.39412975004567713]\n",
      "Iteration No: 17 ended. Evaluation done at random point.\n",
      "Time taken: 367.4482\n",
      "Function value obtained: -0.7807\n",
      "Current minimum: -0.7849\n",
      "Iteration No: 18 started. Evaluating function at random point.\n",
      "[2021-10-13 21:06:58,054][2834506427.py:tune_lgbm:7 INFO] [798, 19, 0.8144942233974822, 0.02789795980504294, 0.8848722277386503, 3.1706847449870135, 4.358588345036712]\n",
      "Iteration No: 18 ended. Evaluation done at random point.\n",
      "Time taken: 985.6507\n",
      "Function value obtained: -0.7816\n",
      "Current minimum: -0.7849\n",
      "Iteration No: 19 started. Evaluating function at random point.\n",
      "[2021-10-13 21:23:23,703][2834506427.py:tune_lgbm:7 INFO] [127, 12, 0.940984593841319, 0.026787514054850338, 0.7236053451493905, 4.0391263742686725, 4.481495586618232]\n",
      "Iteration No: 19 ended. Evaluation done at random point.\n",
      "Time taken: 110.0441\n",
      "Function value obtained: -0.7837\n",
      "Current minimum: -0.7849\n",
      "Iteration No: 20 started. Evaluating function at random point.\n",
      "[2021-10-13 21:25:13,748][2834506427.py:tune_lgbm:7 INFO] [330, 1, 1.3679399244293304, 0.019465934604186736, 0.40031222619718954, 1.7693185931075037, 1.5308584782085652]\n",
      "Iteration No: 20 ended. Evaluation done at random point.\n",
      "Time taken: 45.6036\n",
      "Function value obtained: -0.7440\n",
      "Current minimum: -0.7849\n",
      "Iteration No: 21 started. Searching for the next optimal point.\n",
      "[2021-10-13 21:25:59,352][2834506427.py:tune_lgbm:7 INFO] [397, 2, 1.1808530426821755, 0.02866663769540749, 0.9718635326294047, 4.998774757567312, 3.569237830059256]\n",
      "Iteration No: 21 ended. Search finished for the next optimal point.\n",
      "Time taken: 76.4485\n",
      "Function value obtained: -0.7701\n",
      "Current minimum: -0.7849\n",
      "Iteration No: 22 started. Searching for the next optimal point.\n",
      "[2021-10-13 21:27:15,800][2834506427.py:tune_lgbm:7 INFO] [695, 18, 0.7594102358919258, 0.008905943357090355, 0.5388311011040203, 1.3233765414219276, 4.5069609401723145]\n",
      "Iteration No: 22 ended. Search finished for the next optimal point.\n",
      "Time taken: 788.4291\n",
      "Function value obtained: -0.7864\n",
      "Current minimum: -0.7864\n",
      "Iteration No: 23 started. Searching for the next optimal point.\n",
      "[2021-10-13 21:40:24,230][2834506427.py:tune_lgbm:7 INFO] [745, 12, 2.6611829826904723, 0.004538411923315932, 0.4560243661456912, 1.5439644887589288, 4.269533557842789]\n",
      "Iteration No: 23 ended. Search finished for the next optimal point.\n",
      "Time taken: 571.8103\n",
      "Function value obtained: -0.7854\n",
      "Current minimum: -0.7864\n",
      "Iteration No: 24 started. Searching for the next optimal point.\n",
      "[2021-10-13 21:49:56,040][2834506427.py:tune_lgbm:7 INFO] [705, 12, 1.2439578547771795, 0.0037467110996439986, 0.7574207876793342, 0.3502979219897796, 3.6021786625701306]\n",
      "Iteration No: 24 ended. Search finished for the next optimal point.\n",
      "Time taken: 582.3808\n",
      "Function value obtained: -0.7827\n",
      "Current minimum: -0.7864\n",
      "Iteration No: 25 started. Searching for the next optimal point.\n",
      "[2021-10-13 21:59:38,421][2834506427.py:tune_lgbm:7 INFO] [649, 13, 1.2677594174368876, 0.0017867012749227381, 0.6866895326974847, 0.7010031945894284, 4.151445704427441]\n",
      "Iteration No: 25 ended. Search finished for the next optimal point.\n",
      "Time taken: 584.5042\n",
      "Function value obtained: -0.7764\n",
      "Current minimum: -0.7864\n",
      "Iteration No: 26 started. Searching for the next optimal point.\n",
      "[2021-10-13 22:09:22,925][2834506427.py:tune_lgbm:7 INFO] [659, 15, 4.581574968680138, 0.006096711723008296, 0.5249794365425468, 0.4463237700787856, 3.513940346075295]\n",
      "Iteration No: 26 ended. Search finished for the next optimal point.\n",
      "Time taken: 644.1828\n",
      "Function value obtained: -0.7871\n",
      "Current minimum: -0.7871\n",
      "Iteration No: 27 started. Searching for the next optimal point.\n",
      "[2021-10-13 22:20:07,108][2834506427.py:tune_lgbm:7 INFO] [730, 9, 3.4977024731144635, 0.005351804358791885, 0.5450677328840439, 0.5274865514336212, 2.8862011591978054]\n",
      "Iteration No: 27 ended. Search finished for the next optimal point.\n",
      "Time taken: 476.9034\n",
      "Function value obtained: -0.7856\n",
      "Current minimum: -0.7871\n",
      "Iteration No: 28 started. Searching for the next optimal point.\n",
      "[2021-10-13 22:28:04,012][2834506427.py:tune_lgbm:7 INFO] [697, 5, 3.630436773076692, 0.007006256765313999, 0.5148578318210919, 0.364375378323534, 2.6486345087987977]\n",
      "Iteration No: 28 ended. Search finished for the next optimal point.\n",
      "Time taken: 273.7206\n",
      "Function value obtained: -0.7818\n",
      "Current minimum: -0.7871\n",
      "Iteration No: 29 started. Searching for the next optimal point.\n",
      "[2021-10-13 22:32:37,734][2834506427.py:tune_lgbm:7 INFO] [753, 3, 4.5401435996612625, 0.011070447339378484, 0.4287196076503038, 0.1487285176445444, 1.9340865406374323]\n",
      "Iteration No: 29 ended. Search finished for the next optimal point.\n",
      "Time taken: 188.8316\n",
      "Function value obtained: -0.7788\n",
      "Current minimum: -0.7871\n",
      "Iteration No: 30 started. Searching for the next optimal point.\n",
      "[2021-10-13 22:35:46,564][2834506427.py:tune_lgbm:7 INFO] [441, 17, 2.0347141632545567, 0.00730211573658496, 0.5773770531572007, 0.37941792516858025, 3.0007385719434394]\n",
      "Iteration No: 30 ended. Search finished for the next optimal point.\n",
      "Time taken: 489.3171\n",
      "Function value obtained: -0.7869\n",
      "Current minimum: -0.7871\n",
      "Iteration No: 31 started. Searching for the next optimal point.\n",
      "[2021-10-13 22:43:55,882][2834506427.py:tune_lgbm:7 INFO] [410, 15, 4.013571020332494, 0.0030188230248165866, 0.5532116797225535, 0.39419531380759476, 3.5940281344452285]\n",
      "Iteration No: 31 ended. Search finished for the next optimal point.\n",
      "Time taken: 407.1023\n",
      "Function value obtained: -0.7754\n",
      "Current minimum: -0.7871\n",
      "Iteration No: 32 started. Searching for the next optimal point.\n",
      "[2021-10-13 22:50:42,985][2834506427.py:tune_lgbm:7 INFO] [703, 4, 4.073246420067125, 0.007584731735283077, 0.4555584398650465, 0.5817775301847561, 3.431215562788343]\n",
      "Iteration No: 32 ended. Search finished for the next optimal point.\n",
      "Time taken: 224.1781\n",
      "Function value obtained: -0.7771\n",
      "Current minimum: -0.7871\n",
      "Iteration No: 33 started. Searching for the next optimal point.\n",
      "[2021-10-13 22:54:27,164][2834506427.py:tune_lgbm:7 INFO] [378, 20, 0.7750159850399102, 0.0052783540414377715, 0.5446448621484649, 0.07866477138214427, 0.7316654528897015]\n",
      "Iteration No: 33 ended. Search finished for the next optimal point.\n",
      "Time taken: 465.5519\n",
      "Function value obtained: -0.7860\n",
      "Current minimum: -0.7871\n",
      "Iteration No: 34 started. Searching for the next optimal point.\n",
      "[2021-10-13 23:02:12,717][2834506427.py:tune_lgbm:7 INFO] [489, 19, 0.09637818751200396, 0.006850076796621602, 0.47298329835968017, 1.6946249738589954, 3.1228013495601403]\n",
      "Iteration No: 34 ended. Search finished for the next optimal point.\n",
      "Time taken: 539.7591\n",
      "Function value obtained: -0.7885\n",
      "Current minimum: -0.7885\n",
      "Iteration No: 35 started. Searching for the next optimal point.\n",
      "[2021-10-13 23:11:12,475][2834506427.py:tune_lgbm:7 INFO] [331, 18, 0.7092934189822997, 0.008911638486315238, 0.5490277566873196, 1.257747825255223, 2.1897231127726093]\n",
      "Iteration No: 35 ended. Search finished for the next optimal point.\n",
      "Time taken: 379.3021\n",
      "Function value obtained: -0.7874\n",
      "Current minimum: -0.7885\n",
      "Iteration No: 36 started. Searching for the next optimal point.\n",
      "[2021-10-13 23:17:31,777][2834506427.py:tune_lgbm:7 INFO] [332, 18, 1.459484972789779, 0.0073272310439203734, 0.4435798613632956, 0.5576149330943359, 1.0968247838860952]\n",
      "Iteration No: 36 ended. Search finished for the next optimal point.\n",
      "Time taken: 342.4641\n",
      "Function value obtained: -0.7876\n",
      "Current minimum: -0.7885\n",
      "Iteration No: 37 started. Searching for the next optimal point.\n",
      "[2021-10-13 23:23:14,242][2834506427.py:tune_lgbm:7 INFO] [261, 19, 2.61387812111255, 0.008860857572497929, 0.4092573846580367, 1.6494054504959588, 2.6481691434625625]\n",
      "Iteration No: 37 ended. Search finished for the next optimal point.\n",
      "Time taken: 266.9390\n",
      "Function value obtained: -0.7849\n",
      "Current minimum: -0.7885\n",
      "Iteration No: 38 started. Searching for the next optimal point.\n",
      "[2021-10-13 23:27:41,182][2834506427.py:tune_lgbm:7 INFO] [146, 17, 0.824601840778206, 0.007188615517005569, 0.5857522214363595, 1.2943578913526184, 1.7833882704958017]\n",
      "Iteration No: 38 ended. Search finished for the next optimal point.\n",
      "Time taken: 165.5951\n",
      "Function value obtained: -0.7739\n",
      "Current minimum: -0.7885\n",
      "Iteration No: 39 started. Searching for the next optimal point.\n",
      "[2021-10-13 23:30:26,776][2834506427.py:tune_lgbm:7 INFO] [439, 18, 0.5096917396388754, 0.0012893661515062038, 0.4385760911400315, 1.7950492597751944, 1.168059717628436]\n",
      "Iteration No: 39 ended. Search finished for the next optimal point.\n",
      "Time taken: 443.3241\n",
      "Function value obtained: -0.7707\n",
      "Current minimum: -0.7885\n",
      "Iteration No: 40 started. Searching for the next optimal point.\n",
      "[2021-10-13 23:37:50,101][2834506427.py:tune_lgbm:7 INFO] [639, 20, 4.469311266817824, 0.0004545283590031467, 0.41534821066337135, 1.6251685892245251, 2.848352386096208]\n",
      "Iteration No: 40 ended. Search finished for the next optimal point.\n",
      "Time taken: 675.4308\n",
      "Function value obtained: -0.7555\n",
      "Current minimum: -0.7885\n",
      "Iteration No: 41 started. Searching for the next optimal point.\n",
      "[2021-10-13 23:49:05,531][2834506427.py:tune_lgbm:7 INFO] [437, 20, 4.787802747486205, 0.004591446729137563, 0.4092458311382378, 1.7691589802422285, 3.111490298336283]\n",
      "Iteration No: 41 ended. Search finished for the next optimal point.\n",
      "Time taken: 455.4789\n",
      "Function value obtained: -0.7828\n",
      "Current minimum: -0.7885\n",
      "Iteration No: 42 started. Searching for the next optimal point.\n",
      "[2021-10-13 23:56:41,011][2834506427.py:tune_lgbm:7 INFO] [865, 2, 4.077797238203618, 0.004610197628226439, 0.5558834077440877, 0.57308904414237, 2.6558262638331818]\n",
      "Iteration No: 42 ended. Search finished for the next optimal point.\n",
      "Time taken: 173.3136\n",
      "Function value obtained: -0.7527\n",
      "Current minimum: -0.7885\n",
      "Iteration No: 43 started. Searching for the next optimal point.\n",
      "[2021-10-13 23:59:34,325][2834506427.py:tune_lgbm:7 INFO] [316, 18, 1.9542836231276068, 0.0051767871760645566, 0.4102399657096179, 3.48262358161419, 3.005096554917375]\n",
      "Iteration No: 43 ended. Search finished for the next optimal point.\n",
      "Time taken: 304.6595\n",
      "Function value obtained: -0.7802\n",
      "Current minimum: -0.7885\n",
      "Iteration No: 44 started. Searching for the next optimal point.\n",
      "[2021-10-14 00:04:38,985][2834506427.py:tune_lgbm:7 INFO] [232, 20, 3.681655206316017, 0.004149300877614427, 0.46297833550734946, 1.702571619983575, 2.898207663985096]\n",
      "Iteration No: 44 ended. Search finished for the next optimal point.\n",
      "Time taken: 261.5906\n",
      "Function value obtained: -0.7721\n",
      "Current minimum: -0.7885\n",
      "Iteration No: 45 started. Searching for the next optimal point.\n",
      "[2021-10-14 00:09:00,577][2834506427.py:tune_lgbm:7 INFO] [944, 3, 2.9909666199004583, 0.005728165513085284, 0.5889706231803612, 0.303241893793126, 0.8116986931656042]\n",
      "Iteration No: 45 ended. Search finished for the next optimal point.\n",
      "Time taken: 248.7816\n",
      "Function value obtained: -0.7750\n",
      "Current minimum: -0.7885\n",
      "Iteration No: 46 started. Searching for the next optimal point.\n",
      "[2021-10-14 00:13:09,359][2834506427.py:tune_lgbm:7 INFO] [781, 18, 2.0350647011715495, 0.0002716314280501362, 0.7535951415556755, 0.10494726310427284, 4.612430093285926]\n",
      "Iteration No: 46 ended. Search finished for the next optimal point.\n",
      "Time taken: 944.1319\n",
      "Function value obtained: -0.7605\n",
      "Current minimum: -0.7885\n",
      "Iteration No: 47 started. Searching for the next optimal point.\n",
      "[2021-10-14 00:28:53,491][2834506427.py:tune_lgbm:7 INFO] [867, 8, 1.7372703685922606, 0.007845853697709923, 0.5570265140750302, 1.506021220807383, 2.1659765866262664]\n",
      "Iteration No: 47 ended. Search finished for the next optimal point.\n",
      "Time taken: 508.5732\n",
      "Function value obtained: -0.7859\n",
      "Current minimum: -0.7885\n",
      "Iteration No: 48 started. Searching for the next optimal point.\n",
      "[2021-10-14 00:37:22,065][2834506427.py:tune_lgbm:7 INFO] [935, 2, 4.7704431115533845, 0.027276034239002614, 0.8894669400856425, 0.06537389335956817, 4.686447269585191]\n",
      "Iteration No: 48 ended. Search finished for the next optimal point.\n",
      "Time taken: 175.9332\n",
      "Function value obtained: -0.7775\n",
      "Current minimum: -0.7885\n",
      "Iteration No: 49 started. Searching for the next optimal point.\n",
      "[2021-10-14 00:40:18,000][2834506427.py:tune_lgbm:7 INFO] [498, 7, 1.9528790093904849, 0.0067168846820443735, 0.5132795656382305, 1.6603230705353837, 3.4408404316669325]\n",
      "Iteration No: 49 ended. Search finished for the next optimal point.\n",
      "Time taken: 260.1000\n",
      "Function value obtained: -0.7828\n",
      "Current minimum: -0.7885\n",
      "Iteration No: 50 started. Searching for the next optimal point.\n",
      "[2021-10-14 00:44:38,100][2834506427.py:tune_lgbm:7 INFO] [333, 7, 1.993969671385107, 0.0037126949533722864, 0.9741125165382146, 0.3075742639187211, 1.9509746061578894]\n",
      "Iteration No: 50 ended. Search finished for the next optimal point.\n",
      "Time taken: 162.1952\n",
      "Function value obtained: -0.7599\n",
      "Current minimum: -0.7885\n"
     ]
    }
   ],
   "source": [
    "from skopt import forest_minimize\n",
    "from sklearn.model_selection import RepeatedStratifiedKFold\n",
    "\n",
    "\n",
    "\n",
    "def tune_lgbm(params):\n",
    "    logging.info(params)\n",
    "    n_estimators = params[0] \n",
    "    max_depth = params[1]\n",
    "    reg_lambda = params[2]\n",
    "    learning_rate = params[3]\n",
    "    subsample = params[4]\n",
    "    reg_alpha = params[5]\n",
    "    gamma = params[6]\n",
    "#     min_df = params[7]\n",
    "#     max_df = params[8]\n",
    "#     max_features = params[9]\n",
    "#     ngram_range = (1, params[10])\n",
    "    \n",
    "    scale_pos_weight = y_txt_train.value_counts()[0]/y_txt_train.value_counts()[1]\n",
    "    \n",
    "    model = XGBClassifier(base_score=None, colsample_bylevel=None,\n",
    "               colsample_bynode=None, colsample_bytree=None, gamma=gamma,\n",
    "               importance_type='gain', interaction_constraints=None,\n",
    "               learning_rate=learning_rate, max_delta_step=None, max_depth=max_depth,\n",
    "               n_estimators=n_estimators, n_jobs=None, num_parallel_tree=None,\n",
    "               random_state=DEFAULT_RANDOM_STATE, reg_alpha=reg_alpha, reg_lambda=reg_lambda,\n",
    "               scale_pos_weight=scale_pos_weight, subsample=subsample, \n",
    "               validate_parameters=None, verbosity=None)\n",
    "    \n",
    "    rskfcv = RepeatedStratifiedKFold(n_splits=10, n_repeats=1, random_state=DEFAULT_RANDOM_STATE)\n",
    "    score = cross_val_score(model, X_txt_train_idf, y_txt_train, scoring='roc_auc', cv=rskfcv)\n",
    "    return -np.mean(score)\n",
    "\n",
    "space = [\n",
    "    (100, 1000), # n_estimators\n",
    "    (1, 20), # max_depth\n",
    "    (0.01, 5.0), # reg_lambda\n",
    "    (0.0001, 0.03), # learning_rate\n",
    "    (0.4, 1.), # subsample\n",
    "    (0.01, 5.0), # reg_alpha\n",
    "    (0.01, 5.0), # gamma\n",
    "#     (2, 5), # min_df\n",
    "#     (0.5, 1.0), # max_df\n",
    "#     (100, 5000), # max_features\n",
    "#     (1, 2), # ngram_range\n",
    "]\n",
    "#alterar qdo colocar no HPC\n",
    "res = forest_minimize(tune_lgbm, space, random_state=DEFAULT_RANDOM_STATE, n_random_starts=20, n_calls=50, verbose=1)"
   ]
  },
  {
   "cell_type": "code",
   "execution_count": 16,
   "metadata": {},
   "outputs": [
    {
     "data": {
      "text/plain": [
       "[489,\n",
       " 19,\n",
       " 0.09637818751200396,\n",
       " 0.006850076796621602,\n",
       " 0.47298329835968017,\n",
       " 1.6946249738589954,\n",
       " 3.1228013495601403]"
      ]
     },
     "execution_count": 16,
     "metadata": {},
     "output_type": "execute_result"
    }
   ],
   "source": [
    "res.x"
   ]
  },
  {
   "cell_type": "code",
   "execution_count": 17,
   "metadata": {},
   "outputs": [
    {
     "data": {
      "text/plain": [
       "XGBClassifier(base_score=0.5, booster='gbtree', colsample_bylevel=1,\n",
       "              colsample_bynode=1, colsample_bytree=1, gamma=3.1228013495601403,\n",
       "              gpu_id=-1, importance_type='gain', interaction_constraints='',\n",
       "              learning_rate=0.006850076796621602, max_delta_step=0,\n",
       "              max_depth=19, min_child_weight=1, missing=nan,\n",
       "              monotone_constraints='()', n_estimators=489, n_jobs=0,\n",
       "              num_parallel_tree=1, random_state=42,\n",
       "              reg_alpha=1.6946249738589954, reg_lambda=0.09637818751200396,\n",
       "              scale_pos_weight=2.371488033298647, subsample=0.47298329835968017,\n",
       "              tree_method='exact', validate_parameters=1, verbosity=None)"
      ]
     },
     "execution_count": 17,
     "metadata": {},
     "output_type": "execute_result"
    }
   ],
   "source": [
    "params = [759, 4, 4.038900470867496, 0.022685086880347725, 0.7851344045803921, 0.1308550296924623, 0.022216673300650254, 5, 0.6568820361887584, 4358, 1]\n",
    "params = [561, 8, 4.224223904903976, 0.02244487129310769, 0.7238152794334479, 2.937888316662603, 4.82662398324805, 5, 0.7713480415791243, 2162, 1]\n",
    "params = res.x\n",
    "\n",
    "scale_pos_weight = pd.Series(y_txt_train).value_counts()[0]/pd.Series(y_txt_train).value_counts()[1]\n",
    "n_estimators = params[0] \n",
    "max_depth = params[1]\n",
    "reg_lambda = params[2]\n",
    "learning_rate = params[3]\n",
    "subsample = params[4]\n",
    "reg_alpha = params[5]\n",
    "gamma = params[6]\n",
    "# min_df = params[7]\n",
    "# max_df = params[8]\n",
    "# max_features = params[9]\n",
    "# ngram_range = (1, params[10])\n",
    "\n",
    "# tfidf = TfidfVectorizer(min_df=min_df, max_df=max_df, max_features=max_features, ngram_range=ngram_range)\n",
    "# tfidf.fit(X_txt_train['TextoCompleto'])\n",
    "\n",
    "# X_txt_train_idf = tfidf.transform(X_txt_train['TextoCompleto'])\n",
    "# X_txt_test_idf = tfidf.transform(X_txt_test['TextoCompleto'])\n",
    "\n",
    "scale_pos_weight = y_txt_train.value_counts()[0]/y_txt_train.value_counts()[1]\n",
    "\n",
    "model = XGBClassifier(base_score=None, colsample_bylevel=None,\n",
    "           colsample_bynode=None, colsample_bytree=None, gamma=gamma,\n",
    "           gpu_id=None, importance_type='gain', interaction_constraints=None,\n",
    "           learning_rate=learning_rate, max_delta_step=None, max_depth=max_depth,\n",
    "           n_estimators=n_estimators, n_jobs=None, num_parallel_tree=None,\n",
    "           random_state=DEFAULT_RANDOM_STATE, reg_alpha=reg_alpha, reg_lambda=reg_lambda,\n",
    "           scale_pos_weight=scale_pos_weight, subsample=subsample, tree_method=None,\n",
    "           validate_parameters=None, verbosity=None)\n",
    "\n",
    "model.fit(X_txt_train_idf, y_txt_train)"
   ]
  },
  {
   "cell_type": "code",
   "execution_count": 18,
   "metadata": {},
   "outputs": [],
   "source": [
    "p = model.predict(X_txt_test_idf)"
   ]
  },
  {
   "cell_type": "code",
   "execution_count": 19,
   "metadata": {},
   "outputs": [
    {
     "data": {
      "text/plain": [
       "0.7382579893717697"
      ]
     },
     "execution_count": 19,
     "metadata": {},
     "output_type": "execute_result"
    }
   ],
   "source": [
    "balanced_accuracy_score(y_txt_test, model.predict(X_txt_test_idf) )"
   ]
  },
  {
   "cell_type": "code",
   "execution_count": 20,
   "metadata": {},
   "outputs": [
    {
     "name": "stdout",
     "output_type": "stream",
     "text": [
      "              precision    recall  f1-score   support\n",
      "\n",
      "           0       0.86      0.79      0.82       570\n",
      "           1       0.58      0.69      0.63       241\n",
      "\n",
      "    accuracy                           0.76       811\n",
      "   macro avg       0.72      0.74      0.72       811\n",
      "weighted avg       0.77      0.76      0.76       811\n",
      "\n"
     ]
    }
   ],
   "source": [
    "print(classification_report(y_txt_test, model.predict(X_txt_test_idf) ))"
   ]
  },
  {
   "cell_type": "code",
   "execution_count": 21,
   "metadata": {},
   "outputs": [
    {
     "name": "stdout",
     "output_type": "stream",
     "text": [
      "[[449 121]\n",
      " [ 75 166]]\n"
     ]
    }
   ],
   "source": [
    "print(confusion_matrix(y_txt_test, model.predict(X_txt_test_idf) ))"
   ]
  },
  {
   "cell_type": "code",
   "execution_count": 22,
   "metadata": {},
   "outputs": [
    {
     "data": {
      "text/plain": [
       "0.7382579893717697"
      ]
     },
     "execution_count": 22,
     "metadata": {},
     "output_type": "execute_result"
    }
   ],
   "source": [
    "balanced_accuracy_score(y_txt_test, p)"
   ]
  },
  {
   "cell_type": "code",
   "execution_count": 23,
   "metadata": {},
   "outputs": [
    {
     "data": {
      "text/plain": [
       "0.6287878787878789"
      ]
     },
     "execution_count": 23,
     "metadata": {},
     "output_type": "execute_result"
    }
   ],
   "source": [
    "f1_score(y_txt_test, p)"
   ]
  },
  {
   "cell_type": "code",
   "execution_count": 24,
   "metadata": {},
   "outputs": [
    {
     "data": {
      "text/plain": [
       "0.6887966804979253"
      ]
     },
     "execution_count": 24,
     "metadata": {},
     "output_type": "execute_result"
    }
   ],
   "source": [
    "recall_score(y_txt_test, p)"
   ]
  },
  {
   "cell_type": "code",
   "execution_count": 25,
   "metadata": {},
   "outputs": [
    {
     "data": {
      "text/plain": [
       "0.578397212543554"
      ]
     },
     "execution_count": 25,
     "metadata": {},
     "output_type": "execute_result"
    }
   ],
   "source": [
    "precision_score(y_txt_test, p)"
   ]
  },
  {
   "cell_type": "code",
   "execution_count": 26,
   "metadata": {},
   "outputs": [
    {
     "data": {
      "text/plain": [
       "0.7583230579531443"
      ]
     },
     "execution_count": 26,
     "metadata": {},
     "output_type": "execute_result"
    }
   ],
   "source": [
    "accuracy_score(y_txt_test, p)"
   ]
  },
  {
   "cell_type": "code",
   "execution_count": 27,
   "metadata": {},
   "outputs": [
    {
     "data": {
      "text/plain": [
       "0.8212491810438962"
      ]
     },
     "execution_count": 27,
     "metadata": {},
     "output_type": "execute_result"
    }
   ],
   "source": [
    "roc_auc_score(y_txt_test, model.predict_proba(X_txt_test_idf)[:, 1])"
   ]
  },
  {
   "cell_type": "code",
   "execution_count": 28,
   "metadata": {},
   "outputs": [
    {
     "data": {
      "image/png": "[encoded data removed]",
      "text/plain": [
       "<Figure size 1120x480 with 1 Axes>"
      ]
     },
     "metadata": {
      "needs_background": "light"
     },
     "output_type": "display_data"
    }
   ],
   "source": [
    "matplotlib.rcParams.update({'font.size': 12.5})\n",
    "plt.figure(figsize=(14, 6), dpi=80)\n",
    "# plt.title(' Curva Característica de Operação do Receptor (ROC)')\n",
    "lr_fpr, lr_tpr, thresholds =  roc_curve(y_txt_test.values, model.predict_proba(X_txt_test_idf)[:,1], drop_intermediate=False, pos_label=1)\n",
    "plt.plot(lr_fpr, lr_tpr, label='XGBClassifier',color='#45B39D')\n",
    "plt.plot([0, 1], [0,1], linestyle='--', label='Aleatório/Chute')\n",
    "plt.xlabel('Taxa de Falsos Positivos (FPR)')\n",
    "plt.ylabel('Taxa de Verdadeiros Positivos (TPR ou Recall)')\n",
    "plt.legend()\n",
    "plt.grid(which='major',linestyle='--', linewidth=0.5)\n",
    "plt.tight_layout()\n",
    "# plt.savefig('./docs/tcc/fig_00600_roc_auc_texto.png')\n",
    "plt.show()"
   ]
  },
  {
   "cell_type": "code",
   "execution_count": 29,
   "metadata": {},
   "outputs": [
    {
     "data": {
      "image/png": "[encoded data removed]",
      "text/plain": [
       "<Figure size 1120x480 with 1 Axes>"
      ]
     },
     "metadata": {
      "needs_background": "light"
     },
     "output_type": "display_data"
    }
   ],
   "source": [
    "matplotlib.rcParams.update({'font.size': 12.5})\n",
    "plt.figure(figsize=(14, 6), dpi=80)\n",
    "\n",
    "plt.title('Curva Precisão / Revocação')\n",
    "lr_precision, lr_recall, thresholds =  precision_recall_curve(y_txt_test.values, model.predict_proba(X_txt_test_idf)[:,1], pos_label=1)\n",
    "plt.plot(lr_recall, lr_precision, label='RandomForest', color='#45B39D')\n",
    "plt.plot([0, 1], [0.5,0.5], linestyle='--', label='Aleatório/Chute')\n",
    "plt.xlabel('Recall')\n",
    "plt.ylabel('Precision')\n",
    "plt.legend()\n",
    "plt.grid(which='major',linestyle='--', linewidth=0.5)\n",
    "plt.tight_layout()\n",
    "# plt.savefig('./docs/tcc/fig_00610_pr_auc_dados_estr.png')\n",
    "plt.show()"
   ]
  },
  {
   "cell_type": "code",
   "execution_count": 30,
   "metadata": {},
   "outputs": [
    {
     "data": {
      "text/plain": [
       "0.6527994815336243"
      ]
     },
     "execution_count": 30,
     "metadata": {},
     "output_type": "execute_result"
    }
   ],
   "source": [
    "pr_auc_score = auc(lr_recall, lr_precision)\n",
    "pr_auc_score"
   ]
  },
  {
   "cell_type": "code",
   "execution_count": 31,
   "metadata": {},
   "outputs": [
    {
     "data": {
      "text/html": [
       "<div>\n",
       "<style scoped>\n",
       "    .dataframe tbody tr th:only-of-type {\n",
       "        vertical-align: middle;\n",
       "    }\n",
       "\n",
       "    .dataframe tbody tr th {\n",
       "        vertical-align: top;\n",
       "    }\n",
       "\n",
       "    .dataframe thead th {\n",
       "        text-align: right;\n",
       "    }\n",
       "</style>\n",
       "<table border=\"1\" class=\"dataframe\">\n",
       "  <thead>\n",
       "    <tr style=\"text-align: right;\">\n",
       "      <th></th>\n",
       "      <th>Score</th>\n",
       "      <th>Bins</th>\n",
       "      <th>Y</th>\n",
       "      <th>Acertos Thr 0.5</th>\n",
       "    </tr>\n",
       "  </thead>\n",
       "  <tbody>\n",
       "    <tr>\n",
       "      <th>0</th>\n",
       "      <td>0.136368</td>\n",
       "      <td>(0.1, 0.15]</td>\n",
       "      <td>0</td>\n",
       "      <td>1</td>\n",
       "    </tr>\n",
       "    <tr>\n",
       "      <th>1</th>\n",
       "      <td>0.112561</td>\n",
       "      <td>(0.1, 0.15]</td>\n",
       "      <td>0</td>\n",
       "      <td>1</td>\n",
       "    </tr>\n",
       "    <tr>\n",
       "      <th>2</th>\n",
       "      <td>0.480849</td>\n",
       "      <td>(0.45, 0.5]</td>\n",
       "      <td>0</td>\n",
       "      <td>1</td>\n",
       "    </tr>\n",
       "    <tr>\n",
       "      <th>3</th>\n",
       "      <td>0.308664</td>\n",
       "      <td>(0.3, 0.35]</td>\n",
       "      <td>0</td>\n",
       "      <td>1</td>\n",
       "    </tr>\n",
       "    <tr>\n",
       "      <th>4</th>\n",
       "      <td>0.737252</td>\n",
       "      <td>(0.7, 0.75]</td>\n",
       "      <td>0</td>\n",
       "      <td>0</td>\n",
       "    </tr>\n",
       "  </tbody>\n",
       "</table>\n",
       "</div>"
      ],
      "text/plain": [
       "      Score         Bins  Y  Acertos Thr 0.5\n",
       "0  0.136368  (0.1, 0.15]  0                1\n",
       "1  0.112561  (0.1, 0.15]  0                1\n",
       "2  0.480849  (0.45, 0.5]  0                1\n",
       "3  0.308664  (0.3, 0.35]  0                1\n",
       "4  0.737252  (0.7, 0.75]  0                0"
      ]
     },
     "execution_count": 31,
     "metadata": {},
     "output_type": "execute_result"
    }
   ],
   "source": [
    "df_histograma = pd.Series(model.predict_proba(X_txt_test_idf)[:,1]).to_frame().rename(columns={0:'Score'})\n",
    "df_histograma['Bins'] = pd.cut(df_histograma['Score'], bins=np.arange(0,1.05,0.05))\n",
    "df_histograma['Y'] = y_txt_test.values\n",
    "df_histograma['Acertos Thr 0.5'] = df_histograma.apply(lambda x: 1 if (1 if x['Score']>=.5 else 0)==x['Y'] else 0,axis=1)\n",
    "df_histograma.head()"
   ]
  },
  {
   "cell_type": "code",
   "execution_count": 32,
   "metadata": {},
   "outputs": [
    {
     "data": {
      "text/html": [
       "<div>\n",
       "<style scoped>\n",
       "    .dataframe tbody tr th:only-of-type {\n",
       "        vertical-align: middle;\n",
       "    }\n",
       "\n",
       "    .dataframe tbody tr th {\n",
       "        vertical-align: top;\n",
       "    }\n",
       "\n",
       "    .dataframe thead th {\n",
       "        text-align: right;\n",
       "    }\n",
       "</style>\n",
       "<table border=\"1\" class=\"dataframe\">\n",
       "  <thead>\n",
       "    <tr style=\"text-align: right;\">\n",
       "      <th></th>\n",
       "      <th>Bins</th>\n",
       "      <th>Acertos (%)</th>\n",
       "      <th>Contagem</th>\n",
       "      <th>left</th>\n",
       "    </tr>\n",
       "  </thead>\n",
       "  <tbody>\n",
       "    <tr>\n",
       "      <th>0</th>\n",
       "      <td>(0.0, 0.05]</td>\n",
       "      <td>1.000000</td>\n",
       "      <td>6</td>\n",
       "      <td>0.025</td>\n",
       "    </tr>\n",
       "    <tr>\n",
       "      <th>1</th>\n",
       "      <td>(0.05, 0.1]</td>\n",
       "      <td>0.980000</td>\n",
       "      <td>50</td>\n",
       "      <td>0.075</td>\n",
       "    </tr>\n",
       "    <tr>\n",
       "      <th>2</th>\n",
       "      <td>(0.1, 0.15]</td>\n",
       "      <td>1.000000</td>\n",
       "      <td>66</td>\n",
       "      <td>0.125</td>\n",
       "    </tr>\n",
       "    <tr>\n",
       "      <th>3</th>\n",
       "      <td>(0.15, 0.2]</td>\n",
       "      <td>0.910448</td>\n",
       "      <td>67</td>\n",
       "      <td>0.175</td>\n",
       "    </tr>\n",
       "    <tr>\n",
       "      <th>4</th>\n",
       "      <td>(0.2, 0.25]</td>\n",
       "      <td>0.880000</td>\n",
       "      <td>75</td>\n",
       "      <td>0.225</td>\n",
       "    </tr>\n",
       "    <tr>\n",
       "      <th>5</th>\n",
       "      <td>(0.25, 0.3]</td>\n",
       "      <td>0.884058</td>\n",
       "      <td>69</td>\n",
       "      <td>0.275</td>\n",
       "    </tr>\n",
       "    <tr>\n",
       "      <th>6</th>\n",
       "      <td>(0.3, 0.35]</td>\n",
       "      <td>0.850000</td>\n",
       "      <td>40</td>\n",
       "      <td>0.325</td>\n",
       "    </tr>\n",
       "    <tr>\n",
       "      <th>7</th>\n",
       "      <td>(0.35, 0.4]</td>\n",
       "      <td>0.733333</td>\n",
       "      <td>60</td>\n",
       "      <td>0.375</td>\n",
       "    </tr>\n",
       "    <tr>\n",
       "      <th>8</th>\n",
       "      <td>(0.4, 0.45]</td>\n",
       "      <td>0.704545</td>\n",
       "      <td>44</td>\n",
       "      <td>0.425</td>\n",
       "    </tr>\n",
       "    <tr>\n",
       "      <th>9</th>\n",
       "      <td>(0.45, 0.5]</td>\n",
       "      <td>0.659574</td>\n",
       "      <td>47</td>\n",
       "      <td>0.475</td>\n",
       "    </tr>\n",
       "    <tr>\n",
       "      <th>10</th>\n",
       "      <td>(0.5, 0.55]</td>\n",
       "      <td>0.477273</td>\n",
       "      <td>44</td>\n",
       "      <td>0.525</td>\n",
       "    </tr>\n",
       "    <tr>\n",
       "      <th>11</th>\n",
       "      <td>(0.55, 0.6]</td>\n",
       "      <td>0.390244</td>\n",
       "      <td>41</td>\n",
       "      <td>0.575</td>\n",
       "    </tr>\n",
       "    <tr>\n",
       "      <th>12</th>\n",
       "      <td>(0.6, 0.65]</td>\n",
       "      <td>0.487805</td>\n",
       "      <td>41</td>\n",
       "      <td>0.625</td>\n",
       "    </tr>\n",
       "    <tr>\n",
       "      <th>13</th>\n",
       "      <td>(0.65, 0.7]</td>\n",
       "      <td>0.510204</td>\n",
       "      <td>49</td>\n",
       "      <td>0.675</td>\n",
       "    </tr>\n",
       "    <tr>\n",
       "      <th>14</th>\n",
       "      <td>(0.7, 0.75]</td>\n",
       "      <td>0.700000</td>\n",
       "      <td>40</td>\n",
       "      <td>0.725</td>\n",
       "    </tr>\n",
       "    <tr>\n",
       "      <th>15</th>\n",
       "      <td>(0.75, 0.8]</td>\n",
       "      <td>0.702703</td>\n",
       "      <td>37</td>\n",
       "      <td>0.775</td>\n",
       "    </tr>\n",
       "    <tr>\n",
       "      <th>16</th>\n",
       "      <td>(0.8, 0.85]</td>\n",
       "      <td>0.823529</td>\n",
       "      <td>17</td>\n",
       "      <td>0.825</td>\n",
       "    </tr>\n",
       "    <tr>\n",
       "      <th>17</th>\n",
       "      <td>(0.85, 0.9]</td>\n",
       "      <td>0.923077</td>\n",
       "      <td>13</td>\n",
       "      <td>0.875</td>\n",
       "    </tr>\n",
       "    <tr>\n",
       "      <th>18</th>\n",
       "      <td>(0.9, 0.95]</td>\n",
       "      <td>0.800000</td>\n",
       "      <td>5</td>\n",
       "      <td>0.925</td>\n",
       "    </tr>\n",
       "    <tr>\n",
       "      <th>19</th>\n",
       "      <td>(0.95, 1.0]</td>\n",
       "      <td>0.000000</td>\n",
       "      <td>0</td>\n",
       "      <td>0.975</td>\n",
       "    </tr>\n",
       "  </tbody>\n",
       "</table>\n",
       "</div>"
      ],
      "text/plain": [
       "           Bins  Acertos (%)  Contagem   left\n",
       "0   (0.0, 0.05]     1.000000         6  0.025\n",
       "1   (0.05, 0.1]     0.980000        50  0.075\n",
       "2   (0.1, 0.15]     1.000000        66  0.125\n",
       "3   (0.15, 0.2]     0.910448        67  0.175\n",
       "4   (0.2, 0.25]     0.880000        75  0.225\n",
       "5   (0.25, 0.3]     0.884058        69  0.275\n",
       "6   (0.3, 0.35]     0.850000        40  0.325\n",
       "7   (0.35, 0.4]     0.733333        60  0.375\n",
       "8   (0.4, 0.45]     0.704545        44  0.425\n",
       "9   (0.45, 0.5]     0.659574        47  0.475\n",
       "10  (0.5, 0.55]     0.477273        44  0.525\n",
       "11  (0.55, 0.6]     0.390244        41  0.575\n",
       "12  (0.6, 0.65]     0.487805        41  0.625\n",
       "13  (0.65, 0.7]     0.510204        49  0.675\n",
       "14  (0.7, 0.75]     0.700000        40  0.725\n",
       "15  (0.75, 0.8]     0.702703        37  0.775\n",
       "16  (0.8, 0.85]     0.823529        17  0.825\n",
       "17  (0.85, 0.9]     0.923077        13  0.875\n",
       "18  (0.9, 0.95]     0.800000         5  0.925\n",
       "19  (0.95, 1.0]     0.000000         0  0.975"
      ]
     },
     "execution_count": 32,
     "metadata": {},
     "output_type": "execute_result"
    }
   ],
   "source": [
    "df_barplot = df_histograma[['Bins','Acertos Thr 0.5']].groupby(['Bins']).apply(lambda x: x['Acertos Thr 0.5'].sum()/x.shape[0]).fillna(0).to_frame().rename(columns={0: 'Acertos (%)'})\n",
    "df_barplot['Contagem'] = df_histograma[['Bins','Acertos Thr 0.5']].groupby(['Bins']).count()\n",
    "df_barplot = df_barplot.reset_index()\n",
    "df_barplot['left'] = df_barplot['Bins'].apply(lambda x: x.left+0.025)\n",
    "df_barplot"
   ]
  },
  {
   "cell_type": "code",
   "execution_count": 33,
   "metadata": {},
   "outputs": [],
   "source": [
    "from matplotlib.colors import ListedColormap\n",
    "from matplotlib.cm import ScalarMappable\n",
    "N = 20\n",
    "vals = np.ones((N, 4))\n",
    "vals[:, 0] = np.linspace(.5,45/256, N)\n",
    "vals[:, 1] = np.linspace(0, 179/256, N)\n",
    "vals[:, 2] = np.linspace(0, 157/256, N)\n",
    "newcmp = ListedColormap(vals)"
   ]
  },
  {
   "cell_type": "code",
   "execution_count": 34,
   "metadata": {},
   "outputs": [
    {
     "data": {
      "image/png": "[encoded data removed]",
      "text/plain": [
       "<Figure size 1120x480 with 2 Axes>"
      ]
     },
     "metadata": {
      "needs_background": "light"
     },
     "output_type": "display_data"
    }
   ],
   "source": [
    "matplotlib.rcParams.update({'font.size': 12.5})\n",
    "plt.figure(figsize=(14, 6), dpi=80)\n",
    "color='#45B39D'\n",
    "scalarMappable = ScalarMappable(cmap=newcmp)\n",
    "plt.bar(df_barplot['left'], df_barplot['Contagem'], width=0.05, color=scalarMappable.cmap(df_barplot['Acertos (%)']), alpha=1, linewidth=1, edgecolor='white')\n",
    "colorbar = plt.colorbar(scalarMappable)\n",
    "colorbar.set_label('Índice de Acertos na Faixa')\n",
    "plt.xlim(0,1)\n",
    "plt.grid(which='both',linestyle='--', linewidth=0.5)\n",
    "plt.title('Histograma para os Scores dados pelo modelo')\n",
    "plt.xlabel('Score')\n",
    "plt.ylabel('Quantidade de Observações')\n",
    "plt.tight_layout()\n",
    "plt.xticks(ticks=np.arange(0,1.05, 0.05), rotation=90)\n",
    "# plt.savefig('./docs/tcc/fig_00430_pos_prob_dados_estr.png')\n",
    "plt.show()"
   ]
  }
 ],
 "metadata": {
  "kernelspec": {
   "display_name": "Python 3 (ipykernel)",
   "language": "python",
   "name": "python3"
  },
  "language_info": {
   "codemirror_mode": {
    "name": "ipython",
    "version": 3
   },
   "file_extension": ".py",
   "mimetype": "text/x-python",
   "name": "python",
   "nbconvert_exporter": "python",
   "pygments_lexer": "ipython3",
   "version": "3.7.11"
  }
 },
 "nbformat": 4,
 "nbformat_minor": 4
}
